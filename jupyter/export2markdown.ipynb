{
 "cells": [
  {
   "cell_type": "code",
   "execution_count": 1,
   "id": "ba604e11",
   "metadata": {
    "ExecuteTime": {
     "end_time": "2021-07-28T11:46:10.388780Z",
     "start_time": "2021-07-28T11:46:09.573949Z"
    }
   },
   "outputs": [],
   "source": [
    "from html.parser import HTMLParser\n",
    "from math import ceil, log\n",
    "from os.path import basename, splitext\n",
    "import re\n",
    "from urllib.parse import quote_plus, quote\n",
    "from nbformat import read\n",
    "from nbconvert import MarkdownExporter\n",
    "from nbconvert.writers import FilesWriter\n",
    "from nbconvert.nbconvertapp import NbConvertApp\n",
    "from nbconvert.preprocessors import Preprocessor\n",
    "from bs4 import BeautifulSoup"
   ]
  },
  {
   "cell_type": "code",
   "execution_count": 2,
   "id": "e70c3d91",
   "metadata": {
    "ExecuteTime": {
     "end_time": "2021-07-28T11:46:10.392209Z",
     "start_time": "2021-07-28T11:46:10.389903Z"
    }
   },
   "outputs": [],
   "source": [
    "notebook = './1-MonteCarlo-Resource-Assessments-part1.ipynb'\n",
    "output_dir = \"/Users/dom/Downloads/nbconvert_output\"\n",
    "notebook_name = splitext(basename(notebook))[0]"
   ]
  },
  {
   "cell_type": "code",
   "execution_count": 3,
   "id": "278bcaf1",
   "metadata": {
    "ExecuteTime": {
     "end_time": "2021-07-28T11:46:10.407160Z",
     "start_time": "2021-07-28T11:46:10.394064Z"
    }
   },
   "outputs": [],
   "source": [
    "with open(notebook, 'r', encoding='utf-8') as f:\n",
    "            nb = read(f, 4)\n",
    "        \n",
    "try:\n",
    "    output_name = quote_plus(\n",
    "        nb.metadata.date + '-' + nb.metadata.title, safe='/'\n",
    "    )\n",
    "except:\n",
    "    output_name = ''"
   ]
  },
  {
   "cell_type": "code",
   "execution_count": 120,
   "id": "a58cb4e9",
   "metadata": {
    "ExecuteTime": {
     "end_time": "2021-07-28T13:19:37.958283Z",
     "start_time": "2021-07-28T13:19:37.948694Z"
    }
   },
   "outputs": [],
   "source": [
    "def format_number(a, digits=3, e_lim=1e6):\n",
    "    \"\"\"Returns a float rounded to the specified number of digits.\n",
    "    If the absolute value of the float is greater than 1, it will\n",
    "    simply round to specified digits; if it is less than 1, it will\n",
    "    determine how many digits to round to to preserve the specified\n",
    "    number of significant digits.\n",
    "    \n",
    "    Use True for as_string to return a formated string and not a float.\"\"\"\n",
    "    \n",
    "    if a == 0:\n",
    "        fmt = '.0f'\n",
    "    elif abs(a) >= e_lim:\n",
    "        fmt = '.{}e'.format(digits)\n",
    "    elif abs(a) >= 1:\n",
    "        fmt = '.{}f'.format(digits)\n",
    "    else:\n",
    "        fmt = '.{}f'.format(-ceil(log(abs(a), 10)) + digits)\n",
    "                            \n",
    "    return '{:,{}}'.format(a, fmt)\n",
    "\n",
    "\n",
    "\n",
    "class CustomPreprocess(Preprocessor):\n",
    "\n",
    "    \n",
    "    def preprocess(self, nb, resources):\n",
    "        \n",
    "        global files\n",
    "        files = []\n",
    "\n",
    "        pre = \"\"\"<div class=\"equation\">\\n\\t<div>\"\"\"\n",
    "        post = \"\"\"</div>\\n<div class=\"equation_dots\"></div>\\n\"\"\"\n",
    "        post += \"<div></div>\\n\"\n",
    "        post += \"</div>\\n\"\n",
    "        \n",
    "        img_pre = '{{ site.url }}' + 'assets/images/posts/' \n",
    "        img_pre += quote(output_name) + '_files/'\n",
    "        \n",
    "        for cell in nb.cells[:]:\n",
    "            \n",
    "            if cell.source == '':\n",
    "                nb.cells.remove(cell)\n",
    "                continue\n",
    "            \n",
    "            if cell.cell_type == 'markdown':\n",
    "                s = re.sub(\"^\\# .+\\n\\n\", '', cell.source, re.MULTILINE)\n",
    "                s = re.sub(r'\\\\\\\\\\[', pre + r'\\\\[', s)\n",
    "                s = re.sub(r'\\\\\\\\\\]', r'\\\\]' + post, s)\n",
    "                \n",
    "                soup = BeautifulSoup(s, 'html.parser')\n",
    "                \n",
    "                for img in soup.findAll('img'):\n",
    "                    files.append(img['src'])\n",
    "                    img['src'] = img_pre + basename(img['src'])\n",
    "                    del img['width']\n",
    "                    img['class'] = 'scaled'\n",
    "                    \n",
    "                for a in soup.findAll('a'):\n",
    "                    try:\n",
    "                        a['href'] = (a.img['src'])\n",
    "                    except:\n",
    "                        pass\n",
    "                                \n",
    "                for caption in soup.findAll('figcaption'):\n",
    "                    c = caption.get_text()\n",
    "                    c = re.sub('^Figure \\d+: ', '', c)\n",
    "                    caption.string = c\n",
    "                    \n",
    "                for td in soup.findAll('td'):\n",
    "                    print('hi')\n",
    "#                     try:\n",
    "#                         print(td.get_text())\n",
    "#                     except:\n",
    "#                         pass\n",
    "                    \n",
    "#                 s = str(soup)\n",
    "#                 cell.source = s   \n",
    "                cell.source = str(soup)\n",
    "    \n",
    "            elif cell.cell_type == 'code':\n",
    "                for output in cell.outputs:\n",
    "                    try:\n",
    "                        soup = BeautifulSoup(\n",
    "                            output.data['text/html'], 'html.parser'\n",
    "                        )\n",
    "                    except:\n",
    "                        pass\n",
    "                    else:\n",
    "                        for td in soup.findAll('td'):\n",
    "                            try:\n",
    "                                val = float(td.get_text())\n",
    "                            except:\n",
    "                                pass\n",
    "                            else:\n",
    "                                td.string = format_number(val, 3)\n",
    "                        output.data['text/html'] = str(soup)\n",
    "                \n",
    "                \n",
    "        try:\n",
    "            nb.metadata.notebook\n",
    "        except:\n",
    "            nb.metadata.notebook = notebook_name\n",
    "            \n",
    "        return nb, resources"
   ]
  },
  {
   "cell_type": "code",
   "execution_count": 121,
   "id": "0aa1c23a",
   "metadata": {
    "ExecuteTime": {
     "end_time": "2021-07-28T13:19:38.529921Z",
     "start_time": "2021-07-28T13:19:38.523198Z"
    }
   },
   "outputs": [],
   "source": [
    "md_exporter = MarkdownExporter(\n",
    "#     template_name=\"blog-markdown\",\n",
    "    template_file='./index.md.j2',\n",
    "    preprocessors=[CustomPreprocess]\n",
    ")"
   ]
  },
  {
   "cell_type": "code",
   "execution_count": 122,
   "id": "e1139560",
   "metadata": {
    "ExecuteTime": {
     "end_time": "2021-07-28T13:19:38.670728Z",
     "start_time": "2021-07-28T13:19:38.668212Z"
    }
   },
   "outputs": [],
   "source": [
    "md_writer = FilesWriter(\n",
    "    build_directory = output_dir,\n",
    ")\n"
   ]
  },
  {
   "cell_type": "code",
   "execution_count": 123,
   "id": "a63f2cb9",
   "metadata": {
    "ExecuteTime": {
     "end_time": "2021-07-28T13:19:38.799859Z",
     "start_time": "2021-07-28T13:19:38.797223Z"
    }
   },
   "outputs": [],
   "source": [
    "files = []\n",
    "app = NbConvertApp(\n",
    "    output_base = output_name\n",
    ")\n",
    "app.exporter = md_exporter\n",
    "app.writer = md_writer"
   ]
  },
  {
   "cell_type": "code",
   "execution_count": 124,
   "id": "1dd824fc",
   "metadata": {
    "ExecuteTime": {
     "end_time": "2021-07-28T13:19:39.079892Z",
     "start_time": "2021-07-28T13:19:38.922903Z"
    }
   },
   "outputs": [
    {
     "name": "stderr",
     "output_type": "stream",
     "text": [
      "[NbConvertApp] Converting notebook ./1-MonteCarlo-Resource-Assessments-part1.ipynb to \n"
     ]
    }
   ],
   "source": [
    "md_writer.files = files\n",
    "app.convert_single_notebook(notebook)"
   ]
  },
  {
   "cell_type": "code",
   "execution_count": 125,
   "id": "543ee70c",
   "metadata": {
    "ExecuteTime": {
     "end_time": "2021-07-28T13:19:39.083688Z",
     "start_time": "2021-07-28T13:19:39.080994Z"
    }
   },
   "outputs": [
    {
     "data": {
      "text/plain": [
       "['./assets/1-sensitivity.png']"
      ]
     },
     "execution_count": 125,
     "metadata": {},
     "output_type": "execute_result"
    }
   ],
   "source": [
    "files"
   ]
  }
 ],
 "metadata": {
  "hide_input": false,
  "kernelspec": {
   "display_name": "Python 3",
   "language": "python",
   "name": "python3"
  },
  "language_info": {
   "codemirror_mode": {
    "name": "ipython",
    "version": 3
   },
   "file_extension": ".py",
   "mimetype": "text/x-python",
   "name": "python",
   "nbconvert_exporter": "python",
   "pygments_lexer": "ipython3",
   "version": "3.7.3"
  }
 },
 "nbformat": 4,
 "nbformat_minor": 5
}
