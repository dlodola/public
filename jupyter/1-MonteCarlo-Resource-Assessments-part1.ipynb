{
 "cells": [
  {
   "cell_type": "markdown",
   "id": "83284016",
   "metadata": {
    "slideshow": {
     "slide_type": "-"
    }
   },
   "source": [
    "## Introduction\n",
    "\n",
    "We explore in this article how to easily generate your own Monte Carlo simulations in Python using a resource assessment as an example. The methodologies detailed here can however be adapted to any problem where a Monte Carlo simulation is desired.<!--more-->\n",
    "There are many advantages to using Python for this: \n",
    "- It's totally free - no need for any extensions to Excel (or for Excel for that matter...);\n",
    "- It's not a black box - you know what is happening under the hood;\n",
    "- It's fully customizable - you can finally tailor the solution to your problem, including the outputs;\n",
    "- It is easy to export your results to a wide variety of destinations, including raster and vector images, Excel spreadsheets, or even LaTeX documents.\n",
    "\n",
    "Though some familiarity with Python is desirable, advanced knowledge of the language isn't needed and the code provided below should relatively easy to adapt to your own needs. We will mostly be using [SciPy's](https://www.scipy.org) [*statistical submodule*](https://docs.scipy.org/doc/scipy/reference/stats.html) for calculations, [Pandas](https://pandas.pydata.org) for generating and summarizing results, and a combination of [Matplotlib](https://matplotlib.org)/[seaborn](https://seaborn.pydata.org) for plotting.\n",
    "\n",
    "First, we will see how we can generate random variates from a known distribution. We will then apply this knowledge and generate random variates for all the input parameters for a resource calculation before calculating the corresponding resource distribution and creating some reporting elements. Finally we will discuss potential next steps to take things a little further.\n",
    "\n",
    "\n",
    "## Generating random variates from a distribution with SciPy\n",
    "\n",
    "Let's generate \\\\(n\\\\) random variates for a normal distribution with a mean of 3 and a standard deviation of 2. For this, we can use SciPy's [*norm*](https://docs.scipy.org/doc/scipy/reference/generated/scipy.stats.norm.html) continuous distribution class to instantiate a normal distribution object with the desired paramaters: `distribution = norm(loc=3, scale=2)`. We can then use its [*rvs( )*](https://docs.scipy.org/doc/scipy/reference/generated/scipy.stats.rv_continuous.rvs.html) method to generate \\\\(n\\\\) random variates.\n",
    "\n",
    "### Import necessary libraries"
   ]
  },
  {
   "cell_type": "code",
   "execution_count": 44,
   "id": "e1f892c6",
   "metadata": {},
   "outputs": [],
   "source": [
    "from math import log, exp\n",
    "\n",
    "import matplotlib.pyplot as plt\n",
    "from matplotlib.ticker import StrMethodFormatter\n",
    "import numpy as np\n",
    "import pandas as pd\n",
    "from scipy.stats import (norm, lognorm, \n",
    "                         gamma, percentileofscore)\n",
    "\n",
    "import seaborn as sns"
   ]
  },
  {
   "cell_type": "markdown",
   "id": "c7716b7a",
   "metadata": {},
   "source": [
    "### Generate random variates and ideal distribution"
   ]
  },
  {
   "cell_type": "code",
   "execution_count": 45,
   "id": "e1709084",
   "metadata": {},
   "outputs": [],
   "source": [
    "# instantiate normal distribution object with mean=3, std=2\n",
    "distribution = norm(loc=3, scale=2)\n",
    "\n",
    "# generate n random variates using 'rvs' method\n",
    "n = 10_000\n",
    "rv = distribution.rvs(int(n))\n",
    "\n",
    "# generate (x, y) data for the ideal distribution\n",
    "x = np.linspace(-6.5, 8.5)\n",
    "probability = distribution.pdf(x)"
   ]
  },
  {
   "cell_type": "markdown",
   "id": "9e4f866a",
   "metadata": {},
   "source": [
    "### Plot histogram of results"
   ]
  },
  {
   "cell_type": "code",
   "execution_count": 65,
   "id": "a0b48511",
   "metadata": {
    "scrolled": false
   },
   "outputs": [
    {
     "data": {
      "image/png": "[encoded data removed]",
      "text/plain": [
       "<Figure size 432x288 with 1 Axes>"
      ]
     },
     "metadata": {
      "needs_background": "light"
     },
     "output_type": "display_data"
    }
   ],
   "source": [
    "# create Pyplot axes for plotting results\n",
    "fig, ax = plt.subplots()\n",
    "\n",
    "# plot a histogram of the random variates with seaborn\n",
    "sns.histplot(\n",
    "    rv,\n",
    "    bins=40,\n",
    "    stat='density',\n",
    "    ax=ax,\n",
    "    label='Sample data'\n",
    ")\n",
    "    \n",
    "# plot the ideal distribution\n",
    "ax.plot(x, probability, c='k', ls=':', \n",
    "        label='Ideal distribution')\n",
    "    \n",
    "# format title and add legend to plot\n",
    "ax.set_title(\"$n={:,.0f}$\".format(n))\n",
    "ax.legend(loc='upper left')\n",
    "\n",
    "plt.show()"
   ]
  },
  {
   "cell_type": "markdown",
   "id": "7feec5aa",
   "metadata": {},
   "source": [
    "> We set the `stat` argument to `density` for the histogram to normalize its total area to 1.\n",
    "\n",
    "### A note on distributions and their parameters in SciPy\n",
    "\n",
    "In addition to the normal distribution used above, there are many others available in SciPy all featuring similar functionalities. The average geoscientist should easily find what they need:\n",
    "\n",
    "- Log-normal ([*lognorm*](https://docs.scipy.org/doc/scipy/reference/generated/scipy.stats.lognorm.html)) \n",
    "- Beta ([*beta*](https://docs.scipy.org/doc/scipy/reference/generated/scipy.stats.beta.html))\n",
    "- Triangular ([*triang*](https://docs.scipy.org/doc/scipy/reference/generated/scipy.stats.triang.html))\n",
    "- Truncated normal ([*truncnorm*](https://docs.scipy.org/doc/scipy/reference/generated/scipy.stats.truncnorm.html))\n",
    "- And many more (full list [here](https://docs.scipy.org/doc/scipy/reference/stats.html#continuous-distributions))\n",
    "\n",
    "The parameters used to define these distributions are not always as user friendly as one might hope, and depending on the distribution some calculations may be needed to get to them. To make things a little simpler going forward, we will therefor create some functions to instantiate SciPy distribution objects using more user friendly parameters, especially for the log-normal distribution which we will also be using. The two functions below do this taking the \\\\(P_{90}\\\\) and \\\\(P_{10}\\\\) as input parameters."
   ]
  },
  {
   "cell_type": "code",
   "execution_count": 47,
   "id": "c88e2510",
   "metadata": {},
   "outputs": [],
   "source": [
    "def norm_dist(p90, p10):\n",
    "    if p90 > p10:\n",
    "        p90, p10 = p10, p90\n",
    "    mean = (p90 + p10) / 2 \n",
    "    std = (p10 - p90) / (norm.ppf(0.9) - norm.ppf(0.1))\n",
    "    return norm(loc=mean, scale=std)\n",
    "    \n",
    "\n",
    "def lognorm_dist(p90, p10):\n",
    "    if p90 > p10:\n",
    "        p90, p10 = p10, p90\n",
    "    std = log(p10 / p90) / (norm.ppf(0.9) - norm.ppf(0.1))\n",
    "    mean = (log(p10) - 2**0.5 * std \n",
    "            * (gamma.ppf(0.8, a=0.5, scale=1))**0.5)\n",
    "    return lognorm(s=std, scale=exp(mean))"
   ]
  },
  {
   "cell_type": "markdown",
   "id": "43d3bc34",
   "metadata": {},
   "source": [
    "## Generating random variates for volumetric parameters\n",
    "\n",
    "We can now define distributions for the input parameters of our resource assessment and generate random variates for each parameter. We will store these in a Python `dict` so we can use the dictionary keys to create corresponding columns in a Pandas DataFrame, and then loop through these keys to populate these columns with appropriate random variates."
   ]
  },
  {
   "cell_type": "code",
   "execution_count": 48,
   "id": "b183f455",
   "metadata": {},
   "outputs": [],
   "source": [
    "# define volumetric parameters\n",
    "params = {\n",
    "    'GRV':      lognorm_dist(p90=100e6, p10=250e6),\n",
    "    'NTG':      norm_dist(p90=0.6, p10=0.8),\n",
    "    'Porosity': norm_dist(p90=0.125, p10=0.225),\n",
    "    'Sw':       norm_dist(p90=0.15, p10=0.45),\n",
    "    'FVF':      norm_dist(p90=1.1, p10=1.3),\n",
    "    'RF':       norm_dist(p90=0.15, p10=0.25),\n",
    "}\n",
    "\n",
    "# number of samples in our simulation\n",
    "num_samples = 100_000\n",
    "\n",
    "# create an empty DataFrame with a column for each input parameter\n",
    "realisations = pd.DataFrame([], columns=params)\n",
    "\n",
    "\n",
    "# loop through parameters generating their random variates\n",
    "# and storing the result in the right column of\n",
    "# the DataFrame\n",
    "seed = 2\n",
    "for param, dist in params.items():\n",
    "    realisations[param] = dist.rvs(\n",
    "        num_samples,\n",
    "        random_state=seed\n",
    "    )\n",
    "    seed = seed*2"
   ]
  },
  {
   "cell_type": "markdown",
   "id": "9b80ca16",
   "metadata": {},
   "source": [
    "> Note: defining the `random_state` argument in `rvs` is not a requirement. I have opted to do this here so the outputs are always the same (still 'random', just the same 'random' every time). I have been cautious to change the random state for each parameter to avoid unwanted correlation between parameters.\n",
    "\n",
    "### Random variates summary\n",
    "\n",
    "Using Pandas' [*describe( )*](https://pandas.pydata.org/docs/reference/api/pandas.DataFrame.describe.html?highlight=describe) method and specifying a list of `percentiles`, we can easily generate a summary table of statistics for the imput parameters. Along with our chosen percentiles, this will also provide mean, standard deviation, and min & max for each parameter. This is useful to check we have experimental distributions that matches our desired ones."
   ]
  },
  {
   "cell_type": "code",
   "execution_count": 49,
   "id": "d4046b9a",
   "metadata": {},
   "outputs": [
    {
     "data": {
      "text/html": [
       "<div>\n",
       "<style scoped>\n",
       "    .dataframe tbody tr th:only-of-type {\n",
       "        vertical-align: middle;\n",
       "    }\n",
       "\n",
       "    .dataframe tbody tr th {\n",
       "        vertical-align: top;\n",
       "    }\n",
       "\n",
       "    .dataframe thead th {\n",
       "        text-align: right;\n",
       "    }\n",
       "</style>\n",
       "<table border=\"1\" class=\"dataframe\">\n",
       "  <thead>\n",
       "    <tr style=\"text-align: right;\">\n",
       "      <th></th>\n",
       "      <th>GRV</th>\n",
       "      <th>NTG</th>\n",
       "      <th>Porosity</th>\n",
       "      <th>Sw</th>\n",
       "      <th>FVF</th>\n",
       "      <th>RF</th>\n",
       "    </tr>\n",
       "  </thead>\n",
       "  <tbody>\n",
       "    <tr>\n",
       "      <th>count</th>\n",
       "      <td>1.000000e+05</td>\n",
       "      <td>100000.000000</td>\n",
       "      <td>100000.000000</td>\n",
       "      <td>100000.000000</td>\n",
       "      <td>100000.000000</td>\n",
       "      <td>100000.000000</td>\n",
       "    </tr>\n",
       "    <tr>\n",
       "      <th>mean</th>\n",
       "      <td>1.684093e+08</td>\n",
       "      <td>0.699864</td>\n",
       "      <td>0.174904</td>\n",
       "      <td>0.299951</td>\n",
       "      <td>1.200344</td>\n",
       "      <td>0.199975</td>\n",
       "    </tr>\n",
       "    <tr>\n",
       "      <th>std</th>\n",
       "      <td>6.246200e+07</td>\n",
       "      <td>0.077804</td>\n",
       "      <td>0.039007</td>\n",
       "      <td>0.117216</td>\n",
       "      <td>0.078205</td>\n",
       "      <td>0.039172</td>\n",
       "    </tr>\n",
       "    <tr>\n",
       "      <th>min</th>\n",
       "      <td>3.837896e+07</td>\n",
       "      <td>0.339578</td>\n",
       "      <td>-0.001573</td>\n",
       "      <td>-0.189080</td>\n",
       "      <td>0.853751</td>\n",
       "      <td>0.036569</td>\n",
       "    </tr>\n",
       "    <tr>\n",
       "      <th>10%</th>\n",
       "      <td>9.992398e+07</td>\n",
       "      <td>0.600324</td>\n",
       "      <td>0.124994</td>\n",
       "      <td>0.149439</td>\n",
       "      <td>1.100215</td>\n",
       "      <td>0.149634</td>\n",
       "    </tr>\n",
       "    <tr>\n",
       "      <th>50%</th>\n",
       "      <td>1.578452e+08</td>\n",
       "      <td>0.699836</td>\n",
       "      <td>0.174726</td>\n",
       "      <td>0.299628</td>\n",
       "      <td>1.200399</td>\n",
       "      <td>0.200028</td>\n",
       "    </tr>\n",
       "    <tr>\n",
       "      <th>90%</th>\n",
       "      <td>2.500421e+08</td>\n",
       "      <td>0.799543</td>\n",
       "      <td>0.225139</td>\n",
       "      <td>0.449945</td>\n",
       "      <td>1.300464</td>\n",
       "      <td>0.250159</td>\n",
       "    </tr>\n",
       "    <tr>\n",
       "      <th>max</th>\n",
       "      <td>7.547270e+08</td>\n",
       "      <td>1.029001</td>\n",
       "      <td>0.331260</td>\n",
       "      <td>0.781936</td>\n",
       "      <td>1.528683</td>\n",
       "      <td>0.363993</td>\n",
       "    </tr>\n",
       "  </tbody>\n",
       "</table>\n",
       "</div>"
      ],
      "text/plain": [
       "                GRV            NTG       Porosity             Sw  \\\n",
       "count  1.000000e+05  100000.000000  100000.000000  100000.000000   \n",
       "mean   1.684093e+08       0.699864       0.174904       0.299951   \n",
       "std    6.246200e+07       0.077804       0.039007       0.117216   \n",
       "min    3.837896e+07       0.339578      -0.001573      -0.189080   \n",
       "10%    9.992398e+07       0.600324       0.124994       0.149439   \n",
       "50%    1.578452e+08       0.699836       0.174726       0.299628   \n",
       "90%    2.500421e+08       0.799543       0.225139       0.449945   \n",
       "max    7.547270e+08       1.029001       0.331260       0.781936   \n",
       "\n",
       "                 FVF             RF  \n",
       "count  100000.000000  100000.000000  \n",
       "mean        1.200344       0.199975  \n",
       "std         0.078205       0.039172  \n",
       "min         0.853751       0.036569  \n",
       "10%         1.100215       0.149634  \n",
       "50%         1.200399       0.200028  \n",
       "90%         1.300464       0.250159  \n",
       "max         1.528683       0.363993  "
      ]
     },
     "execution_count": 49,
     "metadata": {},
     "output_type": "execute_result"
    }
   ],
   "source": [
    "realisations.describe(percentiles=[0.1, 0.5, 0.9],)"
   ]
  },
  {
   "cell_type": "markdown",
   "id": "0cf912eb",
   "metadata": {},
   "source": [
    "Close inspection reveals values for net-to-gross, porosity and \\\\(S_w\\\\) that fall outside of desired bounds. We can address this with Pandas' [*clip( )*](https://pandas.pydata.org/docs/reference/api/pandas.DataFrame.clip.html) method and clip these outlier values to more reasonable ones."
   ]
  },
  {
   "cell_type": "code",
   "execution_count": 50,
   "id": "b2757a99",
   "metadata": {},
   "outputs": [
    {
     "data": {
      "text/html": [
       "<div>\n",
       "<style scoped>\n",
       "    .dataframe tbody tr th:only-of-type {\n",
       "        vertical-align: middle;\n",
       "    }\n",
       "\n",
       "    .dataframe tbody tr th {\n",
       "        vertical-align: top;\n",
       "    }\n",
       "\n",
       "    .dataframe thead th {\n",
       "        text-align: right;\n",
       "    }\n",
       "</style>\n",
       "<table border=\"1\" class=\"dataframe\">\n",
       "  <thead>\n",
       "    <tr style=\"text-align: right;\">\n",
       "      <th></th>\n",
       "      <th>GRV</th>\n",
       "      <th>NTG</th>\n",
       "      <th>Porosity</th>\n",
       "      <th>Sw</th>\n",
       "      <th>FVF</th>\n",
       "      <th>RF</th>\n",
       "    </tr>\n",
       "  </thead>\n",
       "  <tbody>\n",
       "    <tr>\n",
       "      <th>count</th>\n",
       "      <td>1.000000e+05</td>\n",
       "      <td>100000.000000</td>\n",
       "      <td>100000.000000</td>\n",
       "      <td>100000.000000</td>\n",
       "      <td>100000.000000</td>\n",
       "      <td>100000.000000</td>\n",
       "    </tr>\n",
       "    <tr>\n",
       "      <th>mean</th>\n",
       "      <td>1.684093e+08</td>\n",
       "      <td>0.699863</td>\n",
       "      <td>0.175310</td>\n",
       "      <td>0.305519</td>\n",
       "      <td>1.200344</td>\n",
       "      <td>0.199975</td>\n",
       "    </tr>\n",
       "    <tr>\n",
       "      <th>std</th>\n",
       "      <td>6.246200e+07</td>\n",
       "      <td>0.077800</td>\n",
       "      <td>0.038069</td>\n",
       "      <td>0.107172</td>\n",
       "      <td>0.078205</td>\n",
       "      <td>0.039172</td>\n",
       "    </tr>\n",
       "    <tr>\n",
       "      <th>min</th>\n",
       "      <td>3.837896e+07</td>\n",
       "      <td>0.339578</td>\n",
       "      <td>0.100000</td>\n",
       "      <td>0.150000</td>\n",
       "      <td>0.853751</td>\n",
       "      <td>0.036569</td>\n",
       "    </tr>\n",
       "    <tr>\n",
       "      <th>10%</th>\n",
       "      <td>9.992398e+07</td>\n",
       "      <td>0.600324</td>\n",
       "      <td>0.124994</td>\n",
       "      <td>0.150000</td>\n",
       "      <td>1.100215</td>\n",
       "      <td>0.149634</td>\n",
       "    </tr>\n",
       "    <tr>\n",
       "      <th>50%</th>\n",
       "      <td>1.578452e+08</td>\n",
       "      <td>0.699836</td>\n",
       "      <td>0.174726</td>\n",
       "      <td>0.299628</td>\n",
       "      <td>1.200399</td>\n",
       "      <td>0.200028</td>\n",
       "    </tr>\n",
       "    <tr>\n",
       "      <th>90%</th>\n",
       "      <td>2.500421e+08</td>\n",
       "      <td>0.799543</td>\n",
       "      <td>0.225139</td>\n",
       "      <td>0.449945</td>\n",
       "      <td>1.300464</td>\n",
       "      <td>0.250159</td>\n",
       "    </tr>\n",
       "    <tr>\n",
       "      <th>max</th>\n",
       "      <td>7.547270e+08</td>\n",
       "      <td>1.000000</td>\n",
       "      <td>0.331260</td>\n",
       "      <td>0.700000</td>\n",
       "      <td>1.528683</td>\n",
       "      <td>0.363993</td>\n",
       "    </tr>\n",
       "  </tbody>\n",
       "</table>\n",
       "</div>"
      ],
      "text/plain": [
       "                GRV            NTG       Porosity             Sw  \\\n",
       "count  1.000000e+05  100000.000000  100000.000000  100000.000000   \n",
       "mean   1.684093e+08       0.699863       0.175310       0.305519   \n",
       "std    6.246200e+07       0.077800       0.038069       0.107172   \n",
       "min    3.837896e+07       0.339578       0.100000       0.150000   \n",
       "10%    9.992398e+07       0.600324       0.124994       0.150000   \n",
       "50%    1.578452e+08       0.699836       0.174726       0.299628   \n",
       "90%    2.500421e+08       0.799543       0.225139       0.449945   \n",
       "max    7.547270e+08       1.000000       0.331260       0.700000   \n",
       "\n",
       "                 FVF             RF  \n",
       "count  100000.000000  100000.000000  \n",
       "mean        1.200344       0.199975  \n",
       "std         0.078205       0.039172  \n",
       "min         0.853751       0.036569  \n",
       "10%         1.100215       0.149634  \n",
       "50%         1.200399       0.200028  \n",
       "90%         1.300464       0.250159  \n",
       "max         1.528683       0.363993  "
      ]
     },
     "execution_count": 50,
     "metadata": {},
     "output_type": "execute_result"
    }
   ],
   "source": [
    "realisations['Porosity'] = realisations['Porosity'].clip(lower=0.1)\n",
    "realisations['Sw'] = realisations['Sw'].clip(lower=0.15, upper=0.70)\n",
    "realisations['NTG'] = realisations['NTG'].clip(upper=1)\n",
    "\n",
    "realisations.describe(percentiles=[0.1, 0.5, 0.9],)"
   ]
  },
  {
   "cell_type": "markdown",
   "id": "76d58c29",
   "metadata": {},
   "source": [
    "## Volumetric calculations and reporting\n",
    "\n",
    "\n",
    "### Calculating resource distribution"
   ]
  },
  {
   "cell_type": "code",
   "execution_count": 51,
   "id": "23664b26",
   "metadata": {},
   "outputs": [],
   "source": [
    "realisations['STOOIP'] = (realisations['GRV']\n",
    "                     * realisations['NTG']\n",
    "                     * realisations['Porosity']\n",
    "                     * (1 - realisations['Sw'])\n",
    "                     / realisations['FVF']\n",
    "                     / 1_000 / 159)\n",
    "realisations['Resource'] = realisations['STOOIP'] * realisations['RF']"
   ]
  },
  {
   "cell_type": "markdown",
   "id": "ad9e24a6",
   "metadata": {},
   "source": [
    "### Plotting the results\n",
    "\n",
    "Let's use seaborn to plot a summary histogram and an empirical cumulative distribution function of the STOOIP distribution:"
   ]
  },
  {
   "cell_type": "code",
   "execution_count": 52,
   "id": "0826d97c",
   "metadata": {},
   "outputs": [
    {
     "data": {
      "image/png": "[encoded data removed]",
      "text/plain": [
       "<Figure size 597.6x842.4 with 2 Axes>"
      ]
     },
     "metadata": {
      "needs_background": "light"
     },
     "output_type": "display_data"
    }
   ],
   "source": [
    "fig, ax = plt.subplots(nrows=2, figsize=(8.3, 11.7))\n",
    "\n",
    "# display histogram of distribution in first subplot\n",
    "sns.histplot(realisations.STOOIP, ax=ax[0], stat='probability', bins=40)\n",
    "\n",
    "# display empirical cumulative distribution function in second subplot\n",
    "sns.ecdfplot(realisations.STOOIP, ax=ax[1])\n",
    "\n",
    "plt.show()"
   ]
  },
  {
   "cell_type": "markdown",
   "id": "06417a05",
   "metadata": {},
   "source": [
    "With a little bit of extra code, we can add some useful information on our plots for the \\\\(P_{90}\\\\), \\\\(P_{50}\\\\), \\\\(P_{10}\\\\) and mean values:"
   ]
  },
  {
   "cell_type": "code",
   "execution_count": 63,
   "id": "baa81a96",
   "metadata": {},
   "outputs": [
    {
     "data": {
      "image/png": "[encoded data removed]",
      "text/plain": [
       "<Figure size 597.6x842.4 with 2 Axes>"
      ]
     },
     "metadata": {
      "needs_background": "light"
     },
     "output_type": "display_data"
    }
   ],
   "source": [
    "# next 3 lines copied from above\n",
    "fig, ax = plt.subplots(nrows=2, figsize=(8.3, 11.7))\n",
    "sns.histplot(realisations.STOOIP, ax=ax[0], stat='probability', bins=40)\n",
    "sns.ecdfplot(realisations.STOOIP, ax=ax[1])\n",
    "\n",
    "# display key percentiles and mean on plots\n",
    "ax[0].set_xlim(left=0)\n",
    "ax[0].set_ylim(ax[0].get_ylim()) # freeze ylim\n",
    "ax[1].set_xlim(ax[0].get_xlim())\n",
    "y_max = ax[0].get_ylim()[1]\n",
    "ls = {'c':'k', 'ls': '--', 'lw': '1'}\n",
    "for p in [0.1, 0.5, 0.9]:\n",
    "    q = realisations.STOOIP.quantile(p)\n",
    "    ax[0].plot([q] * 2, [0, y_max], **ls)\n",
    "    ax[1].plot([0] + [q] * 2,\n",
    "               [p] * 2 + [0],\n",
    "               **ls)\n",
    "    ax[1].annotate('{:.1f}'.format(q), \n",
    "                   (q, p),\n",
    "                   xytext=(3, 3),\n",
    "                   textcoords='offset pixels',\n",
    "                   c='k')\n",
    "    \n",
    "ls_mean = {'c':'r', 'ls': '--', 'lw': '1'}\n",
    "mean = realisations.STOOIP.mean()\n",
    "Pmean = percentileofscore(realisations.STOOIP,\n",
    "                          mean, kind='weak') / 100\n",
    "ax[0].plot([mean] * 2, [0, y_max],\n",
    "           **ls_mean)\n",
    "ax[1].plot([0] + [mean] * 2, [Pmean] * 2 + [0],\n",
    "           **ls_mean)\n",
    "ax[1].annotate('$Mean={:.1f}$'.format(mean), \n",
    "               (mean, Pmean),\n",
    "               xytext=(3, 3),\n",
    "               textcoords='offset pixels',\n",
    "               c='r')\n",
    "\n",
    "plt.show()"
   ]
  },
  {
   "cell_type": "markdown",
   "id": "d394825c",
   "metadata": {},
   "source": [
    "### Summary statistics"
   ]
  },
  {
   "cell_type": "code",
   "execution_count": 54,
   "id": "5e76f2b0",
   "metadata": {},
   "outputs": [
    {
     "data": {
      "text/html": [
       "<div>\n",
       "<style scoped>\n",
       "    .dataframe tbody tr th:only-of-type {\n",
       "        vertical-align: middle;\n",
       "    }\n",
       "\n",
       "    .dataframe tbody tr th {\n",
       "        vertical-align: top;\n",
       "    }\n",
       "\n",
       "    .dataframe thead th {\n",
       "        text-align: right;\n",
       "    }\n",
       "</style>\n",
       "<table border=\"1\" class=\"dataframe\">\n",
       "  <thead>\n",
       "    <tr style=\"text-align: right;\">\n",
       "      <th></th>\n",
       "      <th>Min</th>\n",
       "      <th>P90</th>\n",
       "      <th>P50</th>\n",
       "      <th>P10</th>\n",
       "      <th>Max</th>\n",
       "      <th>Mean</th>\n",
       "    </tr>\n",
       "  </thead>\n",
       "  <tbody>\n",
       "    <tr>\n",
       "      <th>GRV</th>\n",
       "      <td>3.837896e+07</td>\n",
       "      <td>9.992398e+07</td>\n",
       "      <td>1.578452e+08</td>\n",
       "      <td>2.500421e+08</td>\n",
       "      <td>7.547270e+08</td>\n",
       "      <td>1.684093e+08</td>\n",
       "    </tr>\n",
       "    <tr>\n",
       "      <th>NTG</th>\n",
       "      <td>3.395776e-01</td>\n",
       "      <td>6.003238e-01</td>\n",
       "      <td>6.998363e-01</td>\n",
       "      <td>7.995425e-01</td>\n",
       "      <td>1.000000e+00</td>\n",
       "      <td>6.998628e-01</td>\n",
       "    </tr>\n",
       "    <tr>\n",
       "      <th>Porosity</th>\n",
       "      <td>1.000000e-01</td>\n",
       "      <td>1.249936e-01</td>\n",
       "      <td>1.747259e-01</td>\n",
       "      <td>2.251387e-01</td>\n",
       "      <td>3.312596e-01</td>\n",
       "      <td>1.753103e-01</td>\n",
       "    </tr>\n",
       "    <tr>\n",
       "      <th>Sw</th>\n",
       "      <td>1.500000e-01</td>\n",
       "      <td>1.500000e-01</td>\n",
       "      <td>2.996280e-01</td>\n",
       "      <td>4.499451e-01</td>\n",
       "      <td>7.000000e-01</td>\n",
       "      <td>3.055189e-01</td>\n",
       "    </tr>\n",
       "    <tr>\n",
       "      <th>FVF</th>\n",
       "      <td>8.537509e-01</td>\n",
       "      <td>1.100215e+00</td>\n",
       "      <td>1.200399e+00</td>\n",
       "      <td>1.300464e+00</td>\n",
       "      <td>1.528683e+00</td>\n",
       "      <td>1.200344e+00</td>\n",
       "    </tr>\n",
       "    <tr>\n",
       "      <th>RF</th>\n",
       "      <td>3.656859e-02</td>\n",
       "      <td>1.496338e-01</td>\n",
       "      <td>2.000276e-01</td>\n",
       "      <td>2.501588e-01</td>\n",
       "      <td>3.639929e-01</td>\n",
       "      <td>1.999747e-01</td>\n",
       "    </tr>\n",
       "    <tr>\n",
       "      <th>STOOIP</th>\n",
       "      <td>7.488700e+00</td>\n",
       "      <td>3.692494e+01</td>\n",
       "      <td>6.797166e+01</td>\n",
       "      <td>1.232692e+02</td>\n",
       "      <td>4.868506e+02</td>\n",
       "      <td>7.546385e+01</td>\n",
       "    </tr>\n",
       "    <tr>\n",
       "      <th>Resource</th>\n",
       "      <td>1.107679e+00</td>\n",
       "      <td>6.826468e+00</td>\n",
       "      <td>1.334368e+01</td>\n",
       "      <td>2.550345e+01</td>\n",
       "      <td>1.008095e+02</td>\n",
       "      <td>1.509398e+01</td>\n",
       "    </tr>\n",
       "  </tbody>\n",
       "</table>\n",
       "</div>"
      ],
      "text/plain": [
       "                   Min           P90           P50           P10  \\\n",
       "GRV       3.837896e+07  9.992398e+07  1.578452e+08  2.500421e+08   \n",
       "NTG       3.395776e-01  6.003238e-01  6.998363e-01  7.995425e-01   \n",
       "Porosity  1.000000e-01  1.249936e-01  1.747259e-01  2.251387e-01   \n",
       "Sw        1.500000e-01  1.500000e-01  2.996280e-01  4.499451e-01   \n",
       "FVF       8.537509e-01  1.100215e+00  1.200399e+00  1.300464e+00   \n",
       "RF        3.656859e-02  1.496338e-01  2.000276e-01  2.501588e-01   \n",
       "STOOIP    7.488700e+00  3.692494e+01  6.797166e+01  1.232692e+02   \n",
       "Resource  1.107679e+00  6.826468e+00  1.334368e+01  2.550345e+01   \n",
       "\n",
       "                   Max          Mean  \n",
       "GRV       7.547270e+08  1.684093e+08  \n",
       "NTG       1.000000e+00  6.998628e-01  \n",
       "Porosity  3.312596e-01  1.753103e-01  \n",
       "Sw        7.000000e-01  3.055189e-01  \n",
       "FVF       1.528683e+00  1.200344e+00  \n",
       "RF        3.639929e-01  1.999747e-01  \n",
       "STOOIP    4.868506e+02  7.546385e+01  \n",
       "Resource  1.008095e+02  1.509398e+01  "
      ]
     },
     "execution_count": 54,
     "metadata": {},
     "output_type": "execute_result"
    }
   ],
   "source": [
    "summary = realisations.describe(percentiles=[0.1, 0.5, 0.9],).T \\\n",
    "    .iloc[:,[3,4,5,6,7,1]]\n",
    "summary.columns = ['Min', 'P90', 'P50', 'P10', 'Max', 'Mean']\n",
    "summary"
   ]
  },
  {
   "cell_type": "markdown",
   "id": "781961b7",
   "metadata": {},
   "source": [
    "### Export results\n",
    "\n",
    "Matplotlib provides the option to save a figure as a file, with multiple file formats available, including PDF, SVG, PNG and JPEG. Likewise, Pandas allows direct exports to a number of formats, including CVS and Excel .xlsx spreadsheets."
   ]
  },
  {
   "cell_type": "code",
   "execution_count": 61,
   "id": "24cdf0e0",
   "metadata": {},
   "outputs": [],
   "source": [
    "# export STOOIP historgram to a PDF file\n",
    "fig.savefig('./STOOIP.pdf')\n",
    "\n",
    "# export summary statistcs to an Excel spreadsheet\n",
    "summary.to_excel('./summary.xlsx')"
   ]
  },
  {
   "cell_type": "markdown",
   "id": "878c086a",
   "metadata": {},
   "source": [
    "## Where next?\n",
    "\n",
    "### Different methods\n",
    "\n",
    "### Sampling\n",
    "\n",
    "- [ ] correlated variables\n",
    "- [ ] area depth from grid\n",
    "- [ ] GRV from 2 grids\n",
    "- [ ] risked distributions\n",
    "- [ ] multiple prospects / consolidation\n",
    "\n",
    "### Portfolio consolidations\n",
    "\n",
    "pseudo-randomness, sampling, LHC etc. SciPY QMC..."
   ]
  },
  {
   "cell_type": "code",
   "execution_count": null,
   "id": "ce511995",
   "metadata": {},
   "outputs": [],
   "source": []
  }
 ],
 "metadata": {
  "kernelspec": {
   "display_name": "Python 3",
   "language": "python",
   "name": "python3"
  },
  "language_info": {
   "codemirror_mode": {
    "name": "ipython",
    "version": 3
   },
   "file_extension": ".py",
   "mimetype": "text/x-python",
   "name": "python",
   "nbconvert_exporter": "python",
   "pygments_lexer": "ipython3",
   "version": "3.7.3"
  }
 },
 "nbformat": 4,
 "nbformat_minor": 5
}
