{
 "cells": [
  {
   "cell_type": "code",
   "execution_count": 169,
   "id": "ba604e11",
   "metadata": {
    "ExecuteTime": {
     "end_time": "2021-07-28T15:14:52.053893Z",
     "start_time": "2021-07-28T15:14:52.050860Z"
    }
   },
   "outputs": [],
   "source": [
    "from html.parser import HTMLParser\n",
    "from math import ceil, log\n",
    "from os.path import basename, splitext\n",
    "import re\n",
    "from urllib.parse import quote_plus, quote\n",
    "from nbformat import read\n",
    "from nbconvert import MarkdownExporter\n",
    "from nbconvert.writers import FilesWriter\n",
    "from nbconvert.nbconvertapp import NbConvertApp\n",
    "from nbconvert.preprocessors import Preprocessor\n",
    "from bs4 import BeautifulSoup"
   ]
  },
  {
   "cell_type": "code",
   "execution_count": 170,
   "id": "e70c3d91",
   "metadata": {
    "ExecuteTime": {
     "end_time": "2021-07-28T15:14:52.057062Z",
     "start_time": "2021-07-28T15:14:52.055201Z"
    }
   },
   "outputs": [],
   "source": [
    "notebook = './1-MonteCarlo-Resource-Assessments-part1.ipynb'\n",
    "output_dir = \"/Users/dom/Downloads/nbconvert_output\"\n",
    "notebook_name = splitext(basename(notebook))[0]"
   ]
  },
  {
   "cell_type": "code",
   "execution_count": 171,
   "id": "278bcaf1",
   "metadata": {
    "ExecuteTime": {
     "end_time": "2021-07-28T15:14:52.068778Z",
     "start_time": "2021-07-28T15:14:52.058361Z"
    }
   },
   "outputs": [],
   "source": [
    "with open(notebook, 'r', encoding='utf-8') as f:\n",
    "            nb = read(f, 4)\n",
    "        \n",
    "try:\n",
    "    output_name = quote_plus(\n",
    "        nb.metadata.date + '-' + nb.metadata.title, safe='/'\n",
    "    )\n",
    "except:\n",
    "    output_name = ''"
   ]
  },
  {
   "cell_type": "code",
   "execution_count": 211,
   "id": "a58cb4e9",
   "metadata": {
    "ExecuteTime": {
     "end_time": "2021-07-28T15:18:54.150630Z",
     "start_time": "2021-07-28T15:18:54.140312Z"
    }
   },
   "outputs": [],
   "source": [
    "def format_number(a, digits=3, e_lim=1e6):\n",
    "    \"\"\"Returns a float rounded to the specified number of digits.\n",
    "    If the absolute value of the float is greater than 1, it will\n",
    "    simply round to specified digits; if it is less than 1, it will\n",
    "    determine how many digits to round to to preserve the specified\n",
    "    number of significant digits.\n",
    "    \n",
    "    Use True for as_string to return a formated string and not a float.\"\"\"\n",
    "    \n",
    "    \n",
    "    if a == 0:\n",
    "        fmt = '.0f'\n",
    "    elif abs(a) >= e_lim:\n",
    "        fmt = '.1e'\n",
    "    elif abs(a) >= 1:\n",
    "        digits = max(0, digits - ceil(log(abs(a), 10) - 1))\n",
    "        fmt = '.{}f'.format(digits)\n",
    "    else:\n",
    "        fmt = '.{}f'.format(-ceil(log(abs(a), 10)) + digits)\n",
    "                            \n",
    "    return '{:,{}}'.format(a, fmt)\n",
    "\n",
    "\n",
    "\n",
    "class CustomPreprocess(Preprocessor):\n",
    "\n",
    "    \n",
    "    def preprocess(self, nb, resources):\n",
    "        \n",
    "        global files\n",
    "        files = []\n",
    "\n",
    "        pre = \"\"\"<div class=\"equation\">\\n\\t<div>\"\"\"\n",
    "        post = \"\"\"</div>\\n<div class=\"equation_dots\"></div>\\n\"\"\"\n",
    "        post += \"<div></div>\\n\"\n",
    "        post += \"</div>\\n\"\n",
    "        \n",
    "        img_pre = '{{ site.url }}' + 'assets/images/posts/' \n",
    "        img_pre += quote(output_name) + '_files/'\n",
    "        \n",
    "        for cell in nb.cells[:]:\n",
    "            \n",
    "            try:\n",
    "                assert cell.metadata[\"exclude\"]\n",
    "            except:\n",
    "                pass\n",
    "            else:\n",
    "                nb.cells.remove(cell)\n",
    "                continue\n",
    "            \n",
    "            if cell.source == '':\n",
    "                nb.cells.remove(cell)\n",
    "                continue\n",
    "            \n",
    "            if cell.cell_type == 'markdown':\n",
    "                s = re.sub(\"^\\# .+\\n\\n\", '', cell.source, re.MULTILINE)\n",
    "                s = re.sub(r'\\\\\\\\\\[', pre + r'\\\\[', s)\n",
    "                s = re.sub(r'\\\\\\\\\\]', r'\\\\]' + post, s)\n",
    "                \n",
    "                soup = BeautifulSoup(s, 'html.parser')\n",
    "                \n",
    "                for img in soup.findAll('img'):\n",
    "                    files.append(img['src'])\n",
    "                    img['src'] = img_pre + basename(img['src'])\n",
    "                    del img['width']\n",
    "                    img['class'] = 'scaled'\n",
    "                    \n",
    "                for a in soup.findAll('a'):\n",
    "                    try:\n",
    "                        a['href'] = (a.img['src'])\n",
    "                    except:\n",
    "                        pass\n",
    "                                \n",
    "                for caption in soup.findAll('figcaption'):\n",
    "                    c = caption.get_text()\n",
    "                    c = re.sub('^Figure \\d+: ', '', c)\n",
    "                    caption.string = c\n",
    "                cell.source = str(soup)\n",
    "    \n",
    "            elif cell.cell_type == 'code':\n",
    "                for output in cell.outputs:\n",
    "                    try:\n",
    "                        soup = BeautifulSoup(\n",
    "                            output.data['text/html'], 'html.parser'\n",
    "                        )\n",
    "                    except:\n",
    "                        pass\n",
    "                    else:\n",
    "                        for td in soup.findAll('td'):\n",
    "                            try:\n",
    "                                val = float(td.get_text())\n",
    "                            except:\n",
    "                                pass\n",
    "                            else:\n",
    "                                td.string = format_number(val, 3)\n",
    "                        output.data['text/html'] = str(soup)\n",
    "                \n",
    "                \n",
    "        try:\n",
    "            nb.metadata.notebook\n",
    "        except:\n",
    "            nb.metadata.notebook = notebook_name\n",
    "            \n",
    "        return nb, resources"
   ]
  },
  {
   "cell_type": "code",
   "execution_count": 212,
   "id": "0aa1c23a",
   "metadata": {
    "ExecuteTime": {
     "end_time": "2021-07-28T15:18:54.562762Z",
     "start_time": "2021-07-28T15:18:54.555868Z"
    }
   },
   "outputs": [],
   "source": [
    "md_exporter = MarkdownExporter(\n",
    "#     template_name=\"blog-markdown\",\n",
    "    template_file='./index.md.j2',\n",
    "    preprocessors=[CustomPreprocess]\n",
    ")"
   ]
  },
  {
   "cell_type": "code",
   "execution_count": 213,
   "id": "e1139560",
   "metadata": {
    "ExecuteTime": {
     "end_time": "2021-07-28T15:18:54.725262Z",
     "start_time": "2021-07-28T15:18:54.722952Z"
    }
   },
   "outputs": [],
   "source": [
    "md_writer = FilesWriter(\n",
    "    build_directory = output_dir,\n",
    ")\n"
   ]
  },
  {
   "cell_type": "code",
   "execution_count": 214,
   "id": "a63f2cb9",
   "metadata": {
    "ExecuteTime": {
     "end_time": "2021-07-28T15:18:54.870580Z",
     "start_time": "2021-07-28T15:18:54.867756Z"
    }
   },
   "outputs": [],
   "source": [
    "files = []\n",
    "app = NbConvertApp(\n",
    "    output_base = output_name\n",
    ")\n",
    "app.exporter = md_exporter\n",
    "app.writer = md_writer"
   ]
  },
  {
   "cell_type": "code",
   "execution_count": 215,
   "id": "1dd824fc",
   "metadata": {
    "ExecuteTime": {
     "end_time": "2021-07-28T15:18:55.151497Z",
     "start_time": "2021-07-28T15:18:55.005939Z"
    }
   },
   "outputs": [
    {
     "name": "stderr",
     "output_type": "stream",
     "text": [
      "[NbConvertApp] Converting notebook ./1-MonteCarlo-Resource-Assessments-part1.ipynb to \n"
     ]
    },
    {
     "name": "stdout",
     "output_type": "stream",
     "text": [
      "hi\n",
      "hi\n"
     ]
    }
   ],
   "source": [
    "md_writer.files = files\n",
    "app.convert_single_notebook(notebook)"
   ]
  },
  {
   "cell_type": "code",
   "execution_count": 216,
   "id": "543ee70c",
   "metadata": {
    "ExecuteTime": {
     "end_time": "2021-07-28T15:18:55.155180Z",
     "start_time": "2021-07-28T15:18:55.152662Z"
    }
   },
   "outputs": [
    {
     "data": {
      "text/plain": [
       "['./assets/1-sensitivity.png']"
      ]
     },
     "execution_count": 216,
     "metadata": {},
     "output_type": "execute_result"
    }
   ],
   "source": [
    "files"
   ]
  },
  {
   "cell_type": "code",
   "execution_count": 209,
   "id": "4298e660",
   "metadata": {
    "ExecuteTime": {
     "end_time": "2021-07-28T15:18:01.236898Z",
     "start_time": "2021-07-28T15:18:01.234915Z"
    }
   },
   "outputs": [],
   "source": [
    "a = False"
   ]
  },
  {
   "cell_type": "code",
   "execution_count": 210,
   "id": "fd53d59b",
   "metadata": {
    "ExecuteTime": {
     "end_time": "2021-07-28T15:18:01.638999Z",
     "start_time": "2021-07-28T15:18:01.633879Z"
    }
   },
   "outputs": [
    {
     "ename": "AssertionError",
     "evalue": "",
     "output_type": "error",
     "traceback": [
      "\u001b[0;31m---------------------------------------------------------------------------\u001b[0m",
      "\u001b[0;31mAssertionError\u001b[0m                            Traceback (most recent call last)",
      "\u001b[0;32m<ipython-input-210-c82b30dbf47a>\u001b[0m in \u001b[0;36m<module>\u001b[0;34m\u001b[0m\n\u001b[0;32m----> 1\u001b[0;31m \u001b[0;32massert\u001b[0m \u001b[0ma\u001b[0m\u001b[0;34m\u001b[0m\u001b[0;34m\u001b[0m\u001b[0m\n\u001b[0m",
      "\u001b[0;31mAssertionError\u001b[0m: "
     ]
    }
   ],
   "source": [
    "assert a"
   ]
  },
  {
   "cell_type": "code",
   "execution_count": null,
   "id": "87adf187",
   "metadata": {},
   "outputs": [],
   "source": []
  }
 ],
 "metadata": {
  "hide_input": false,
  "kernelspec": {
   "display_name": "Python 3",
   "language": "python",
   "name": "python3"
  },
  "language_info": {
   "codemirror_mode": {
    "name": "ipython",
    "version": 3
   },
   "file_extension": ".py",
   "mimetype": "text/x-python",
   "name": "python",
   "nbconvert_exporter": "python",
   "pygments_lexer": "ipython3",
   "version": "3.7.3"
  }
 },
 "nbformat": 4,
 "nbformat_minor": 5
}
