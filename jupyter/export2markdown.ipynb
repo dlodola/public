{
 "cells": [
  {
   "cell_type": "code",
   "execution_count": 6,
   "id": "ba604e11",
   "metadata": {
    "ExecuteTime": {
     "end_time": "2021-07-29T11:46:22.139323Z",
     "start_time": "2021-07-29T11:46:22.135526Z"
    }
   },
   "outputs": [],
   "source": [
    "from datetime import date\n",
    "from datetime import datetime\n",
    "from html.parser import HTMLParser\n",
    "from math import ceil, log\n",
    "from os import rename, remove\n",
    "from os.path import basename, splitext, join, normpath, isdir, isfile\n",
    "import re\n",
    "from shutil import move, rmtree\n",
    "import tempfile\n",
    "from urllib.parse import quote_plus, quote\n",
    "\n",
    "from bs4 import BeautifulSoup\n",
    "from nbformat import read\n",
    "from nbconvert import MarkdownExporter\n",
    "from nbconvert.nbconvertapp import NbConvertApp\n",
    "from nbconvert.preprocessors import Preprocessor\n",
    "from nbconvert.writers import FilesWriter"
   ]
  },
  {
   "cell_type": "code",
   "execution_count": 2,
   "id": "e70c3d91",
   "metadata": {
    "ExecuteTime": {
     "end_time": "2021-07-29T11:45:16.610902Z",
     "start_time": "2021-07-29T11:45:16.607478Z"
    }
   },
   "outputs": [],
   "source": [
    "notebook = './1-MonteCarlo-Resource-Assessments-part1.ipynb'\n",
    "# output_dir = \"/Users/dom/Downloads/nbconvert_output\"\n",
    "output_dir = tempfile.mkdtemp()\n",
    "notebook_name = splitext(basename(notebook))[0]"
   ]
  },
  {
   "cell_type": "code",
   "execution_count": 23,
   "id": "278bcaf1",
   "metadata": {
    "ExecuteTime": {
     "end_time": "2021-07-29T13:53:49.899828Z",
     "start_time": "2021-07-29T13:53:49.878553Z"
    }
   },
   "outputs": [
    {
     "ename": "AttributeError",
     "evalue": "dates",
     "output_type": "error",
     "traceback": [
      "\u001b[0;31m---------------------------------------------------------------------------\u001b[0m",
      "\u001b[0;31mKeyError\u001b[0m                                  Traceback (most recent call last)",
      "\u001b[0;32m~/anaconda3/lib/python3.7/site-packages/ipython_genutils/ipstruct.py\u001b[0m in \u001b[0;36m__getattr__\u001b[0;34m(self, key)\u001b[0m\n\u001b[1;32m    131\u001b[0m         \u001b[0;32mtry\u001b[0m\u001b[0;34m:\u001b[0m\u001b[0;34m\u001b[0m\u001b[0;34m\u001b[0m\u001b[0m\n\u001b[0;32m--> 132\u001b[0;31m             \u001b[0mresult\u001b[0m \u001b[0;34m=\u001b[0m \u001b[0mself\u001b[0m\u001b[0;34m[\u001b[0m\u001b[0mkey\u001b[0m\u001b[0;34m]\u001b[0m\u001b[0;34m\u001b[0m\u001b[0;34m\u001b[0m\u001b[0m\n\u001b[0m\u001b[1;32m    133\u001b[0m         \u001b[0;32mexcept\u001b[0m \u001b[0mKeyError\u001b[0m\u001b[0;34m:\u001b[0m\u001b[0;34m\u001b[0m\u001b[0;34m\u001b[0m\u001b[0m\n",
      "\u001b[0;31mKeyError\u001b[0m: 'dates'",
      "\nDuring handling of the above exception, another exception occurred:\n",
      "\u001b[0;31mAttributeError\u001b[0m                            Traceback (most recent call last)",
      "\u001b[0;32m<ipython-input-23-1d70940eca02>\u001b[0m in \u001b[0;36m<module>\u001b[0;34m\u001b[0m\n\u001b[1;32m      4\u001b[0m \u001b[0;34m\u001b[0m\u001b[0m\n\u001b[1;32m      5\u001b[0m output_name = quote_plus(\n\u001b[0;32m----> 6\u001b[0;31m     \u001b[0mnb\u001b[0m\u001b[0;34m.\u001b[0m\u001b[0mmetadata\u001b[0m\u001b[0;34m.\u001b[0m\u001b[0mdates\u001b[0m \u001b[0;34m+\u001b[0m \u001b[0;34m'-'\u001b[0m \u001b[0;34m+\u001b[0m \u001b[0mnb\u001b[0m\u001b[0;34m.\u001b[0m\u001b[0mmetadata\u001b[0m\u001b[0;34m.\u001b[0m\u001b[0mtitle\u001b[0m\u001b[0;34m,\u001b[0m \u001b[0msafe\u001b[0m\u001b[0;34m=\u001b[0m\u001b[0;34m'/'\u001b[0m\u001b[0;34m\u001b[0m\u001b[0;34m\u001b[0m\u001b[0m\n\u001b[0m\u001b[1;32m      7\u001b[0m )\n\u001b[1;32m      8\u001b[0m \u001b[0;34m\u001b[0m\u001b[0m\n",
      "\u001b[0;32m~/anaconda3/lib/python3.7/site-packages/ipython_genutils/ipstruct.py\u001b[0m in \u001b[0;36m__getattr__\u001b[0;34m(self, key)\u001b[0m\n\u001b[1;32m    132\u001b[0m             \u001b[0mresult\u001b[0m \u001b[0;34m=\u001b[0m \u001b[0mself\u001b[0m\u001b[0;34m[\u001b[0m\u001b[0mkey\u001b[0m\u001b[0;34m]\u001b[0m\u001b[0;34m\u001b[0m\u001b[0;34m\u001b[0m\u001b[0m\n\u001b[1;32m    133\u001b[0m         \u001b[0;32mexcept\u001b[0m \u001b[0mKeyError\u001b[0m\u001b[0;34m:\u001b[0m\u001b[0;34m\u001b[0m\u001b[0;34m\u001b[0m\u001b[0m\n\u001b[0;32m--> 134\u001b[0;31m             \u001b[0;32mraise\u001b[0m \u001b[0mAttributeError\u001b[0m\u001b[0;34m(\u001b[0m\u001b[0mkey\u001b[0m\u001b[0;34m)\u001b[0m\u001b[0;34m\u001b[0m\u001b[0;34m\u001b[0m\u001b[0m\n\u001b[0m\u001b[1;32m    135\u001b[0m         \u001b[0;32melse\u001b[0m\u001b[0;34m:\u001b[0m\u001b[0;34m\u001b[0m\u001b[0;34m\u001b[0m\u001b[0m\n\u001b[1;32m    136\u001b[0m             \u001b[0;32mreturn\u001b[0m \u001b[0mresult\u001b[0m\u001b[0;34m\u001b[0m\u001b[0;34m\u001b[0m\u001b[0m\n",
      "\u001b[0;31mAttributeError\u001b[0m: dates"
     ]
    }
   ],
   "source": [
    "with open(notebook, 'r', encoding='utf-8') as f:\n",
    "            nb = read(f, 4)\n",
    "        \n",
    "        \n",
    "output_name = quote_plus(\n",
    "    nb.metadata.dates + '-' + nb.metadata.title, safe='/'\n",
    ")\n",
    "        \n",
    "try:\n",
    "    output_name = quote_plus(\n",
    "        nb.metadata.date + '-' + nb.metadata.title, safe='/'\n",
    "    )\n",
    "except:\n",
    "    output_name = (\n",
    "        date.isoformat(date.today())\n",
    "        + '_'\n",
    "        + quote_plus(notebook_name)\n",
    "        )"
   ]
  },
  {
   "cell_type": "code",
   "execution_count": 17,
   "id": "a58cb4e9",
   "metadata": {
    "ExecuteTime": {
     "end_time": "2021-07-29T11:48:13.820006Z",
     "start_time": "2021-07-29T11:48:13.809820Z"
    }
   },
   "outputs": [],
   "source": [
    "def format_number(a, digits=3, e_lim=1e6):\n",
    "    \"\"\"Returns a float rounded to the specified number of digits.\n",
    "    If the absolute value of the float is greater than 1, it will\n",
    "    simply round to specified digits; if it is less than 1, it will\n",
    "    determine how many digits to round to to preserve the specified\n",
    "    number of significant digits.\n",
    "    \n",
    "    Use True for as_string to return a formated string and not a float.\"\"\"\n",
    "    \n",
    "    \n",
    "    if a == 0:\n",
    "        fmt = '.0f'\n",
    "    elif abs(a) >= e_lim:\n",
    "        fmt = '.1e'\n",
    "    elif abs(a) >= 1:\n",
    "        digits = max(0, digits - ceil(log(abs(a), 10) - 1))\n",
    "        fmt = '.{}f'.format(digits)\n",
    "    else:\n",
    "        fmt = '.{}f'.format(-ceil(log(abs(a), 10)) + digits)\n",
    "                            \n",
    "    return '{:,{}}'.format(a, fmt)\n",
    "\n",
    "\n",
    "\n",
    "class CustomPreprocess(Preprocessor):\n",
    "\n",
    "    def preprocess(self, nb, resources):\n",
    "        \n",
    "        files = []\n",
    "\n",
    "        pre = \"\"\"<div class=\"equation\">\\n\\t<div>\"\"\"\n",
    "        post = \"\"\"</div>\\n<div class=\"equation_dots\"></div>\\n\"\"\"\n",
    "        post += \"<div></div>\\n\"\n",
    "        post += \"</div>\\n\"\n",
    "        \n",
    "        img_pre = '{{ site.url }}' + 'assets/images/posts/' \n",
    "        img_pre += quote(output_name) + '_files/'\n",
    "        \n",
    "        for cell in nb.cells[:]:\n",
    "            \n",
    "            try:\n",
    "                assert cell.metadata[\"exclude\"]\n",
    "            except:\n",
    "                pass\n",
    "            else:\n",
    "                nb.cells.remove(cell)\n",
    "                continue\n",
    "            \n",
    "            if cell.source == '':\n",
    "                nb.cells.remove(cell)\n",
    "                continue\n",
    "            \n",
    "            if cell.cell_type == 'markdown':\n",
    "                s = re.sub(\"^\\# .+\\n\\n\", \n",
    "                           '', \n",
    "                           cell.source, \n",
    "                           flags=re.MULTILINE)\n",
    "                s = re.sub(r'\\\\\\\\\\[', pre + r'\\\\[', s)\n",
    "                s = re.sub(r'\\\\\\\\\\]', r'\\\\]' + post, s)\n",
    "                \n",
    "                soup = BeautifulSoup(s, 'html.parser')\n",
    "                \n",
    "                for img in soup.findAll('img'):\n",
    "                    files.append(img['src'])\n",
    "                    img['src'] = img_pre + basename(img['src'])\n",
    "                    del img['width']\n",
    "                    img['class'] = 'scaled'\n",
    "                for a in soup.findAll('a'):\n",
    "                    try:\n",
    "                        a['href'] = (a.img['src'])\n",
    "                    except:\n",
    "                        pass\n",
    "                for caption in soup.findAll('figcaption'):\n",
    "                    c = caption.get_text()\n",
    "                    c = re.sub('^Figure \\d+: ', '', c)\n",
    "                    caption.string = c\n",
    "                    \n",
    "                # replace > for md quotes\n",
    "                s = re.sub(\n",
    "                    '^&gt; ', \n",
    "                    '> ',\n",
    "                    str(soup), \n",
    "                    flags=re.MULTILINE\n",
    "                )\n",
    "                \n",
    "                cell.source = s\n",
    "    \n",
    "            elif cell.cell_type == 'code':\n",
    "                for output in cell.outputs:\n",
    "                    try:\n",
    "                        soup = BeautifulSoup(\n",
    "                            output.data['text/html'], 'html.parser'\n",
    "                        )\n",
    "                    except:\n",
    "                        pass\n",
    "                    else:\n",
    "                        for td in soup.findAll('td'):\n",
    "                            try:\n",
    "                                val = float(td.get_text())\n",
    "                            except:\n",
    "                                pass\n",
    "                            else:\n",
    "                                td.string = format_number(val, 3)\n",
    "                        output.data['text/html'] = str(soup)\n",
    "                \n",
    "                \n",
    "        try:\n",
    "            nb.metadata.notebook\n",
    "        except:\n",
    "            nb.metadata.notebook = notebook_name\n",
    "            \n",
    "        md_writer.files = files\n",
    "            \n",
    "        return nb, resources\n"
   ]
  },
  {
   "cell_type": "code",
   "execution_count": 18,
   "id": "0aa1c23a",
   "metadata": {
    "ExecuteTime": {
     "end_time": "2021-07-29T11:48:14.146010Z",
     "start_time": "2021-07-29T11:48:14.138043Z"
    }
   },
   "outputs": [],
   "source": [
    "md_exporter = MarkdownExporter(\n",
    "#     template_name=\"blog-markdown\",\n",
    "    template_file='./index.md.j2',\n",
    "    preprocessors=[CustomPreprocess]\n",
    ")"
   ]
  },
  {
   "cell_type": "code",
   "execution_count": 19,
   "id": "e1139560",
   "metadata": {
    "ExecuteTime": {
     "end_time": "2021-07-29T11:48:14.306692Z",
     "start_time": "2021-07-29T11:48:14.304270Z"
    }
   },
   "outputs": [],
   "source": [
    "md_writer = FilesWriter(\n",
    "    build_directory = output_dir\n",
    ")\n"
   ]
  },
  {
   "cell_type": "code",
   "execution_count": 20,
   "id": "a63f2cb9",
   "metadata": {
    "ExecuteTime": {
     "end_time": "2021-07-29T11:48:14.593909Z",
     "start_time": "2021-07-29T11:48:14.448456Z"
    }
   },
   "outputs": [
    {
     "name": "stderr",
     "output_type": "stream",
     "text": [
      "[NbConvertApp] Converting notebook ./1-MonteCarlo-Resource-Assessments-part1.ipynb to \n"
     ]
    }
   ],
   "source": [
    "# files = []\n",
    "app = NbConvertApp(\n",
    "    output_base = output_name\n",
    ")\n",
    "app.exporter = md_exporter\n",
    "app.writer = md_writer\n",
    "app.convert_single_notebook(notebook)"
   ]
  },
  {
   "cell_type": "code",
   "execution_count": 21,
   "id": "543ee70c",
   "metadata": {
    "ExecuteTime": {
     "end_time": "2021-07-29T11:48:14.614453Z",
     "start_time": "2021-07-29T11:48:14.608945Z"
    }
   },
   "outputs": [],
   "source": [
    "for file in md_writer.files:\n",
    "    src = normpath(\n",
    "        join(\n",
    "            output_dir,\n",
    "            file\n",
    "        )\n",
    "    )\n",
    "    dst = join(\n",
    "        output_dir, \n",
    "        output_name + '_files', \n",
    "        basename(file)\n",
    "    )\n",
    "    rename(src, dst)\n",
    "    \n",
    "src = join(output_dir, output_name + '_files')\n",
    "dst = join('../docs/assets/images/posts/', output_name + '_files')\n",
    "try:\n",
    "    assert isdir(dst)\n",
    "except:\n",
    "    pass\n",
    "else:\n",
    "    rmtree(dst)\n",
    "finally:\n",
    "    try:\n",
    "        assert isdir(src)\n",
    "    except:\n",
    "        pass\n",
    "    else:\n",
    "        move(src, dst)\n",
    "\n",
    "src = join(output_dir, output_name + '.md')\n",
    "dst = join('../docs/_posts/', output_name + '.md')\n",
    "try:\n",
    "    assert isfile(dst)\n",
    "except:\n",
    "    pass\n",
    "else:\n",
    "    remove(dst)\n",
    "finally:\n",
    "    try:\n",
    "        assert isfile(src)\n",
    "    except:\n",
    "        pass\n",
    "    else:\n",
    "        rename(src, dst)\n",
    "        \n",
    "rmtree(output_dir)"
   ]
  },
  {
   "cell_type": "code",
   "execution_count": 37,
   "id": "0a1ef87d",
   "metadata": {
    "ExecuteTime": {
     "end_time": "2021-07-29T14:06:50.044475Z",
     "start_time": "2021-07-29T14:06:50.038771Z"
    }
   },
   "outputs": [
    {
     "ename": "AttributeError",
     "evalue": "'dict' object has no attribute 'key'",
     "output_type": "error",
     "traceback": [
      "\u001b[0;31m---------------------------------------------------------------------------\u001b[0m",
      "\u001b[0;31mAttributeError\u001b[0m                            Traceback (most recent call last)",
      "\u001b[0;32m<ipython-input-37-64a4d43b6f3e>\u001b[0m in \u001b[0;36m<module>\u001b[0;34m\u001b[0m\n\u001b[1;32m      1\u001b[0m \u001b[0mtmp\u001b[0m \u001b[0;34m=\u001b[0m \u001b[0;34m{\u001b[0m\u001b[0;34m'key'\u001b[0m\u001b[0;34m:\u001b[0m \u001b[0;32mFalse\u001b[0m\u001b[0;34m}\u001b[0m\u001b[0;34m\u001b[0m\u001b[0;34m\u001b[0m\u001b[0m\n\u001b[1;32m      2\u001b[0m \u001b[0;32mtry\u001b[0m\u001b[0;34m:\u001b[0m\u001b[0;34m\u001b[0m\u001b[0;34m\u001b[0m\u001b[0m\n\u001b[0;32m----> 3\u001b[0;31m     \u001b[0;32massert\u001b[0m \u001b[0mtmp\u001b[0m\u001b[0;34m.\u001b[0m\u001b[0mkey\u001b[0m\u001b[0;34m\u001b[0m\u001b[0;34m\u001b[0m\u001b[0m\n\u001b[0m\u001b[1;32m      4\u001b[0m \u001b[0;32mexcept\u001b[0m \u001b[0mKeyError\u001b[0m \u001b[0;32mand\u001b[0m \u001b[0mAssertionError\u001b[0m\u001b[0;34m:\u001b[0m\u001b[0;34m\u001b[0m\u001b[0;34m\u001b[0m\u001b[0m\n\u001b[1;32m      5\u001b[0m     \u001b[0mprint\u001b[0m\u001b[0;34m(\u001b[0m\u001b[0;34m'hi'\u001b[0m\u001b[0;34m)\u001b[0m\u001b[0;34m\u001b[0m\u001b[0;34m\u001b[0m\u001b[0m\n",
      "\u001b[0;31mAttributeError\u001b[0m: 'dict' object has no attribute 'key'"
     ]
    }
   ],
   "source": [
    "tmp = {'key': False}\n",
    "try:\n",
    "    assert tmp.key\n",
    "except KeyError and AssertionError:\n",
    "    print('hi')\n",
    "else:\n",
    "    print('success')"
   ]
  },
  {
   "cell_type": "code",
   "execution_count": 40,
   "id": "6df7a437",
   "metadata": {
    "ExecuteTime": {
     "end_time": "2021-07-29T14:14:31.993683Z",
     "start_time": "2021-07-29T14:14:31.988551Z"
    }
   },
   "outputs": [
    {
     "ename": "ValueError",
     "evalue": "could not convert string to float: 'sde0023'",
     "output_type": "error",
     "traceback": [
      "\u001b[0;31m---------------------------------------------------------------------------\u001b[0m",
      "\u001b[0;31mValueError\u001b[0m                                Traceback (most recent call last)",
      "\u001b[0;32m<ipython-input-40-98b125198620>\u001b[0m in \u001b[0;36m<module>\u001b[0;34m\u001b[0m\n\u001b[0;32m----> 1\u001b[0;31m \u001b[0mfloat\u001b[0m\u001b[0;34m(\u001b[0m\u001b[0;34m'sde0023'\u001b[0m\u001b[0;34m)\u001b[0m\u001b[0;34m\u001b[0m\u001b[0;34m\u001b[0m\u001b[0m\n\u001b[0m",
      "\u001b[0;31mValueError\u001b[0m: could not convert string to float: 'sde0023'"
     ]
    }
   ],
   "source": [
    "float('sde0023')"
   ]
  },
  {
   "cell_type": "code",
   "execution_count": null,
   "id": "c4f8a7db",
   "metadata": {},
   "outputs": [],
   "source": []
  }
 ],
 "metadata": {
  "hide_input": false,
  "kernelspec": {
   "display_name": "Python 3",
   "language": "python",
   "name": "python3"
  },
  "language_info": {
   "codemirror_mode": {
    "name": "ipython",
    "version": 3
   },
   "file_extension": ".py",
   "mimetype": "text/x-python",
   "name": "python",
   "nbconvert_exporter": "python",
   "pygments_lexer": "ipython3",
   "version": "3.7.3"
  }
 },
 "nbformat": 4,
 "nbformat_minor": 5
}
