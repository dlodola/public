{
 "cells": [
  {
   "cell_type": "code",
   "execution_count": 1,
   "id": "e1f892c6",
   "metadata": {},
   "outputs": [],
   "source": [
    "from math import log, exp\n",
    "\n",
    "import matplotlib.pyplot as plt\n",
    "from matplotlib.ticker import StrMethodFormatter\n",
    "import numpy as np\n",
    "import pandas as pd\n",
    "from scipy.stats import (norm, lognorm, \n",
    "                         gamma, percentileofscore)\n",
    "\n",
    "import seaborn as sns"
   ]
  },
  {
   "cell_type": "markdown",
   "id": "83284016",
   "metadata": {
    "slideshow": {
     "slide_type": "-"
    }
   },
   "source": [
    "# Section\n",
    "\n",
    "- Free\n",
    "- Full control - not a black box\n",
    "- fully customizable\n",
    "- easy export of results (images/Excel)\n",
    "\n",
    "## Subsection\n",
    "\n",
    "lorem ipsum\n",
    "\n",
    "[SciPy's](https://www.scipy.org) [*statistical submodule*](https://docs.scipy.org/doc/scipy/reference/stats.html)\n",
    "[*norm*](https://docs.scipy.org/doc/scipy/reference/generated/scipy.stats.norm.html), \n",
    "[*lognorm*](https://docs.scipy.org/doc/scipy/reference/generated/scipy.stats.lognorm.html), \n",
    "[*beta*](https://docs.scipy.org/doc/scipy/reference/generated/scipy.stats.beta.html), \n",
    "[*triang*](https://docs.scipy.org/doc/scipy/reference/generated/scipy.stats.triang.html), &\n",
    "[*truncnorm*](https://docs.scipy.org/doc/scipy/reference/generated/scipy.stats.truncnorm.html) continous distributions.\n",
    "\n",
    "random variates method [*rvs( )*](https://docs.scipy.org/doc/scipy/reference/generated/scipy.stats.rv_continuous.rvs.html)\n",
    "\n",
    "[*clip( )*](https://pandas.pydata.org/docs/reference/api/pandas.DataFrame.clip.html) method\n",
    "[*describe( )*](https://pandas.pydata.org/docs/reference/api/pandas.DataFrame.describe.html?highlight=describe) method\n",
    "\n",
    "# Generating random variates from a distribution with SciPy\n",
    "\n",
    "`distribution = norm(loc=1, scale=2)`\n",
    "\n",
    "`distribution.rvs(n)`"
   ]
  },
  {
   "cell_type": "code",
   "execution_count": 3,
   "id": "46e19473",
   "metadata": {
    "scrolled": false
   },
   "outputs": [
    {
     "data": {
      "image/png": "[encoded data removed]",
      "text/plain": [
       "<Figure size 432x288 with 1 Axes>"
      ]
     },
     "metadata": {
      "needs_background": "light"
     },
     "output_type": "display_data"
    }
   ],
   "source": [
    "# define distribution\n",
    "distribution = norm(loc=3, scale=2)\n",
    "\n",
    "# generate x y data for the ideal distribution\n",
    "x = np.linspace(-6.5, 8.5)\n",
    "y = distribution.pdf(x)\n",
    "\n",
    "# create Pyplot axes for plotting results\n",
    "fig, ax = plt.subplots()\n",
    "\n",
    "n = 10_000\n",
    "\n",
    "# plot a histogram of the random variates\n",
    "ax.hist(distribution.rvs(int(n)), bins=50, density=True,\n",
    "        fc='0.85', ec='0.5', lw=0.5,\n",
    "        label='Sample data')\n",
    "    \n",
    "# plot the ideal distribution\n",
    "ax.plot(x, y, c='k', ls=':', \n",
    "        label='Distribution')\n",
    "    \n",
    "\n",
    "ax.set_title(\"$n={:,.0f}$\".format(n))\n",
    "ax.legend()\n",
    "plt.show()\n",
    "\n"
   ]
  },
  {
   "cell_type": "code",
   "execution_count": 7,
   "id": "89d7216a",
   "metadata": {},
   "outputs": [
    {
     "name": "stdout",
     "output_type": "stream",
     "text": [
      "49.7 ms ± 16.2 ms per loop (mean ± std. dev. of 7 runs, 10 loops each)\n"
     ]
    }
   ],
   "source": [
    "%%timeit \n",
    "distribution.rvs(int(1_000_000))"
   ]
  },
  {
   "cell_type": "markdown",
   "id": "7feec5aa",
   "metadata": {},
   "source": [
    "To make things a little simpler going forward, we can create some functions to instantiate SciPy distribution objects using more user firendly parameters, especially for the log-normal distribution. The two functions below do this taking the *P<sub>90</sub>* and *P<sub>10</sub>* as input parameters."
   ]
  },
  {
   "cell_type": "code",
   "execution_count": 4,
   "id": "c88e2510",
   "metadata": {},
   "outputs": [],
   "source": [
    "def norm_dist(p90, p10):\n",
    "    if p90 > p10:\n",
    "        p90, p10 = p10, p90\n",
    "    mean = (p90 + p10) / 2 \n",
    "    std = (p10 - p90) / (norm.ppf(0.9) - norm.ppf(0.1))\n",
    "    return norm(loc=mean, scale=std)\n",
    "    \n",
    "\n",
    "def lognorm_dist(p90, p10):\n",
    "    if p90 > p10:\n",
    "        p90, p10 = p10, p90\n",
    "    std = log(p10 / p90) / (norm.ppf(0.9) - norm.ppf(0.1))\n",
    "    mean = (log(p10) - 2**0.5 * std \n",
    "            * (gamma.ppf(0.8, a=0.5, scale=1))**0.5)\n",
    "    return lognorm(s=std, scale=exp(mean))"
   ]
  },
  {
   "cell_type": "markdown",
   "id": "43d3bc34",
   "metadata": {},
   "source": [
    "# Generating random variates for volumetric parameters\n",
    "\n",
    "We can now "
   ]
  },
  {
   "cell_type": "code",
   "execution_count": 77,
   "id": "b183f455",
   "metadata": {},
   "outputs": [],
   "source": [
    "params = {\n",
    "    'GRV':      lognorm_dist(p90=100e6, p10=250e6),\n",
    "    'NTG':      norm_dist(p90=0.6, p10=0.8),\n",
    "    'Porosity': norm_dist(p90=0.125, p10=0.225),\n",
    "    'Sw':       norm_dist(p90=0.15, p10=0.45),\n",
    "    'FVF':      norm_dist(p90=1.1, p10=1.3),\n",
    "    'RF':       norm_dist(p90=0.15, p10=0.25),\n",
    "}"
   ]
  },
  {
   "cell_type": "code",
   "execution_count": 78,
   "id": "d4046b9a",
   "metadata": {},
   "outputs": [
    {
     "data": {
      "text/html": [
       "<div>\n",
       "<style scoped>\n",
       "    .dataframe tbody tr th:only-of-type {\n",
       "        vertical-align: middle;\n",
       "    }\n",
       "\n",
       "    .dataframe tbody tr th {\n",
       "        vertical-align: top;\n",
       "    }\n",
       "\n",
       "    .dataframe thead th {\n",
       "        text-align: right;\n",
       "    }\n",
       "</style>\n",
       "<table border=\"1\" class=\"dataframe\">\n",
       "  <thead>\n",
       "    <tr style=\"text-align: right;\">\n",
       "      <th></th>\n",
       "      <th>GRV</th>\n",
       "      <th>NTG</th>\n",
       "      <th>Porosity</th>\n",
       "      <th>Sw</th>\n",
       "      <th>FVF</th>\n",
       "      <th>RF</th>\n",
       "    </tr>\n",
       "  </thead>\n",
       "  <tbody>\n",
       "    <tr>\n",
       "      <th>count</th>\n",
       "      <td>1.000000e+05</td>\n",
       "      <td>100000.000000</td>\n",
       "      <td>100000.000000</td>\n",
       "      <td>100000.000000</td>\n",
       "      <td>100000.000000</td>\n",
       "      <td>100000.000000</td>\n",
       "    </tr>\n",
       "    <tr>\n",
       "      <th>mean</th>\n",
       "      <td>1.688154e+08</td>\n",
       "      <td>0.700112</td>\n",
       "      <td>0.175016</td>\n",
       "      <td>0.300644</td>\n",
       "      <td>1.199675</td>\n",
       "      <td>0.199787</td>\n",
       "    </tr>\n",
       "    <tr>\n",
       "      <th>std</th>\n",
       "      <td>6.223975e+07</td>\n",
       "      <td>0.077701</td>\n",
       "      <td>0.038955</td>\n",
       "      <td>0.116885</td>\n",
       "      <td>0.077966</td>\n",
       "      <td>0.039022</td>\n",
       "    </tr>\n",
       "    <tr>\n",
       "      <th>min</th>\n",
       "      <td>3.258016e+07</td>\n",
       "      <td>0.362990</td>\n",
       "      <td>0.011357</td>\n",
       "      <td>-0.203167</td>\n",
       "      <td>0.874734</td>\n",
       "      <td>0.012380</td>\n",
       "    </tr>\n",
       "    <tr>\n",
       "      <th>10%</th>\n",
       "      <td>1.002347e+08</td>\n",
       "      <td>0.600072</td>\n",
       "      <td>0.124902</td>\n",
       "      <td>0.151330</td>\n",
       "      <td>1.099663</td>\n",
       "      <td>0.149907</td>\n",
       "    </tr>\n",
       "    <tr>\n",
       "      <th>50%</th>\n",
       "      <td>1.586668e+08</td>\n",
       "      <td>0.700362</td>\n",
       "      <td>0.175086</td>\n",
       "      <td>0.300807</td>\n",
       "      <td>1.199992</td>\n",
       "      <td>0.199669</td>\n",
       "    </tr>\n",
       "    <tr>\n",
       "      <th>90%</th>\n",
       "      <td>2.503218e+08</td>\n",
       "      <td>0.799475</td>\n",
       "      <td>0.224950</td>\n",
       "      <td>0.450301</td>\n",
       "      <td>1.299799</td>\n",
       "      <td>0.249655</td>\n",
       "    </tr>\n",
       "    <tr>\n",
       "      <th>max</th>\n",
       "      <td>7.181416e+08</td>\n",
       "      <td>1.028154</td>\n",
       "      <td>0.349845</td>\n",
       "      <td>0.805343</td>\n",
       "      <td>1.561443</td>\n",
       "      <td>0.377388</td>\n",
       "    </tr>\n",
       "  </tbody>\n",
       "</table>\n",
       "</div>"
      ],
      "text/plain": [
       "                GRV            NTG       Porosity             Sw  \\\n",
       "count  1.000000e+05  100000.000000  100000.000000  100000.000000   \n",
       "mean   1.688154e+08       0.700112       0.175016       0.300644   \n",
       "std    6.223975e+07       0.077701       0.038955       0.116885   \n",
       "min    3.258016e+07       0.362990       0.011357      -0.203167   \n",
       "10%    1.002347e+08       0.600072       0.124902       0.151330   \n",
       "50%    1.586668e+08       0.700362       0.175086       0.300807   \n",
       "90%    2.503218e+08       0.799475       0.224950       0.450301   \n",
       "max    7.181416e+08       1.028154       0.349845       0.805343   \n",
       "\n",
       "                 FVF             RF  \n",
       "count  100000.000000  100000.000000  \n",
       "mean        1.199675       0.199787  \n",
       "std         0.077966       0.039022  \n",
       "min         0.874734       0.012380  \n",
       "10%         1.099663       0.149907  \n",
       "50%         1.199992       0.199669  \n",
       "90%         1.299799       0.249655  \n",
       "max         1.561443       0.377388  "
      ]
     },
     "execution_count": 78,
     "metadata": {},
     "output_type": "execute_result"
    }
   ],
   "source": [
    "num_samples = 100_000\n",
    "realisations = pd.DataFrame([], columns=params)\n",
    "\n",
    "for param, dist in params.items():\n",
    "    realisations[param] = dist.rvs(num_samples)\n",
    "    \n",
    "realisations.describe(percentiles=[0.1, 0.5, 0.9],)"
   ]
  },
  {
   "cell_type": "code",
   "execution_count": 14,
   "id": "b2757a99",
   "metadata": {},
   "outputs": [],
   "source": [
    "realisations.Porosity = realisations.Porosity.clip(lower=0.1)\n",
    "realisations.Sw = realisations.Sw.clip(lower=0.15, upper=0.70)"
   ]
  },
  {
   "cell_type": "markdown",
   "id": "76d58c29",
   "metadata": {},
   "source": [
    "# Volumetric calculations and reporting"
   ]
  },
  {
   "cell_type": "code",
   "execution_count": 15,
   "id": "23664b26",
   "metadata": {},
   "outputs": [],
   "source": [
    "realisations['STOOIP'] = (realisations['GRV']\n",
    "                     * realisations['NTG']\n",
    "                     * realisations['Porosity']\n",
    "                     * (1 - realisations['Sw'])\n",
    "                     / realisations['FVF']\n",
    "                     / 1_000 / 159)\n",
    "realisations['Resource'] = realisations['STOOIP'] * realisations['RF']"
   ]
  },
  {
   "cell_type": "code",
   "execution_count": 16,
   "id": "55aa250b",
   "metadata": {},
   "outputs": [
    {
     "data": {
      "image/png": "[encoded data removed]",
      "text/plain": [
       "<Figure size 597.6x842.4 with 2 Axes>"
      ]
     },
     "metadata": {
      "needs_background": "light"
     },
     "output_type": "display_data"
    }
   ],
   "source": [
    "fig, ax = plt.subplots(nrows=2, figsize=(8.3, 11.7))\n",
    "\n",
    "# display histogram of distribution in first subplot\n",
    "sns.histplot(realisations.STOOIP, ax=ax[0], stat='probability', bins=40)\n",
    "\n",
    "# display empirical cumulative distribution function in second subplot\n",
    "sns.ecdfplot(realisations.STOOIP, ax=ax[1])\n",
    "\n",
    "# display key percentiles and mean on cumulative plot\n",
    "ax[0].set_xlim(left=0)\n",
    "ax[0].set_ylim(ax[0].get_ylim()) # freeze ylim\n",
    "ax[1].set_xlim(ax[0].get_xlim())\n",
    "y_max = ax[0].get_ylim()[1]\n",
    "ls = {'c':'k', 'ls': '--', 'lw': '1'}\n",
    "for p in [0.1, 0.5, 0.9]:\n",
    "    q = realisations.STOOIP.quantile(p)\n",
    "    ax[0].plot([q] * 2, [0, y_max], **ls)\n",
    "    ax[1].plot([0] + [q] * 2,\n",
    "               [p] * 2 + [0],\n",
    "               **ls)\n",
    "    ax[1].annotate('{:.1f}'.format(q), \n",
    "                   (q, p),\n",
    "                   xytext=(3, 3),\n",
    "                   textcoords='offset pixels',\n",
    "                   c='k')\n",
    "    \n",
    "ls_mean = {'c':'r', 'ls': '--', 'lw': '1'}\n",
    "mean = realisations.STOOIP.mean()\n",
    "Pmean = percentileofscore(realisations.STOOIP,\n",
    "                          mean, kind='weak') / 100\n",
    "ax[0].plot([mean] * 2, [0, y_max],\n",
    "           **ls_mean)\n",
    "ax[1].plot([0] + [mean] * 2, [Pmean] * 2 + [0],\n",
    "           **ls_mean)\n",
    "ax[1].annotate('$Mean={:.1f}$'.format(mean), \n",
    "               (mean, Pmean),\n",
    "               xytext=(3, 3),\n",
    "               textcoords='offset pixels',\n",
    "               c='r')\n",
    "\n",
    "plt.show()"
   ]
  },
  {
   "cell_type": "code",
   "execution_count": 75,
   "id": "5e76f2b0",
   "metadata": {},
   "outputs": [
    {
     "data": {
      "text/html": [
       "<div>\n",
       "<style scoped>\n",
       "    .dataframe tbody tr th:only-of-type {\n",
       "        vertical-align: middle;\n",
       "    }\n",
       "\n",
       "    .dataframe tbody tr th {\n",
       "        vertical-align: top;\n",
       "    }\n",
       "\n",
       "    .dataframe thead th {\n",
       "        text-align: right;\n",
       "    }\n",
       "</style>\n",
       "<table border=\"1\" class=\"dataframe\">\n",
       "  <thead>\n",
       "    <tr style=\"text-align: right;\">\n",
       "      <th></th>\n",
       "      <th>Min</th>\n",
       "      <th>P90</th>\n",
       "      <th>P50</th>\n",
       "      <th>P10</th>\n",
       "      <th>Max</th>\n",
       "      <th>Mean</th>\n",
       "    </tr>\n",
       "  </thead>\n",
       "  <tbody>\n",
       "    <tr>\n",
       "      <th>GRV</th>\n",
       "      <td>2.438365e+07</td>\n",
       "      <td>1.000282e+08</td>\n",
       "      <td>1.581194e+08</td>\n",
       "      <td>2.500004e+08</td>\n",
       "      <td>1.117909e+09</td>\n",
       "      <td>1.685609e+08</td>\n",
       "    </tr>\n",
       "    <tr>\n",
       "      <th>NTG</th>\n",
       "      <td>2.773127e-01</td>\n",
       "      <td>5.999835e-01</td>\n",
       "      <td>7.000409e-01</td>\n",
       "      <td>8.000065e-01</td>\n",
       "      <td>1.137349e+00</td>\n",
       "      <td>7.000091e-01</td>\n",
       "    </tr>\n",
       "    <tr>\n",
       "      <th>Porosity</th>\n",
       "      <td>1.000000e-01</td>\n",
       "      <td>1.250106e-01</td>\n",
       "      <td>1.750206e-01</td>\n",
       "      <td>2.249958e-01</td>\n",
       "      <td>4.070388e-01</td>\n",
       "      <td>1.754116e-01</td>\n",
       "    </tr>\n",
       "    <tr>\n",
       "      <th>Sw</th>\n",
       "      <td>1.500000e-01</td>\n",
       "      <td>1.500889e-01</td>\n",
       "      <td>3.000461e-01</td>\n",
       "      <td>4.500361e-01</td>\n",
       "      <td>9.375467e-01</td>\n",
       "      <td>3.055735e-01</td>\n",
       "    </tr>\n",
       "    <tr>\n",
       "      <th>FVF</th>\n",
       "      <td>7.556348e-01</td>\n",
       "      <td>1.099933e+00</td>\n",
       "      <td>1.199977e+00</td>\n",
       "      <td>1.300026e+00</td>\n",
       "      <td>1.630874e+00</td>\n",
       "      <td>1.199983e+00</td>\n",
       "    </tr>\n",
       "    <tr>\n",
       "      <th>RF</th>\n",
       "      <td>-6.327157e-03</td>\n",
       "      <td>1.500314e-01</td>\n",
       "      <td>2.000126e-01</td>\n",
       "      <td>2.500131e-01</td>\n",
       "      <td>4.092175e-01</td>\n",
       "      <td>2.000092e-01</td>\n",
       "    </tr>\n",
       "    <tr>\n",
       "      <th>STOOIP</th>\n",
       "      <td>3.107623e+00</td>\n",
       "      <td>3.684857e+01</td>\n",
       "      <td>6.825869e+01</td>\n",
       "      <td>1.234923e+02</td>\n",
       "      <td>7.411706e+02</td>\n",
       "      <td>7.565517e+01</td>\n",
       "    </tr>\n",
       "    <tr>\n",
       "      <th>Resource</th>\n",
       "      <td>-3.627680e-01</td>\n",
       "      <td>6.832546e+00</td>\n",
       "      <td>1.341055e+01</td>\n",
       "      <td>2.551935e+01</td>\n",
       "      <td>1.852048e+02</td>\n",
       "      <td>1.513154e+01</td>\n",
       "    </tr>\n",
       "  </tbody>\n",
       "</table>\n",
       "</div>"
      ],
      "text/plain": [
       "                   Min           P90           P50           P10  \\\n",
       "GRV       2.438365e+07  1.000282e+08  1.581194e+08  2.500004e+08   \n",
       "NTG       2.773127e-01  5.999835e-01  7.000409e-01  8.000065e-01   \n",
       "Porosity  1.000000e-01  1.250106e-01  1.750206e-01  2.249958e-01   \n",
       "Sw        1.500000e-01  1.500889e-01  3.000461e-01  4.500361e-01   \n",
       "FVF       7.556348e-01  1.099933e+00  1.199977e+00  1.300026e+00   \n",
       "RF       -6.327157e-03  1.500314e-01  2.000126e-01  2.500131e-01   \n",
       "STOOIP    3.107623e+00  3.684857e+01  6.825869e+01  1.234923e+02   \n",
       "Resource -3.627680e-01  6.832546e+00  1.341055e+01  2.551935e+01   \n",
       "\n",
       "                   Max          Mean  \n",
       "GRV       1.117909e+09  1.685609e+08  \n",
       "NTG       1.137349e+00  7.000091e-01  \n",
       "Porosity  4.070388e-01  1.754116e-01  \n",
       "Sw        9.375467e-01  3.055735e-01  \n",
       "FVF       1.630874e+00  1.199983e+00  \n",
       "RF        4.092175e-01  2.000092e-01  \n",
       "STOOIP    7.411706e+02  7.565517e+01  \n",
       "Resource  1.852048e+02  1.513154e+01  "
      ]
     },
     "execution_count": 75,
     "metadata": {},
     "output_type": "execute_result"
    }
   ],
   "source": [
    "summary = realisations.describe(percentiles=[0.1, 0.5, 0.9],).T \\\n",
    "    .iloc[:,[3,4,5,6,7,1]]\n",
    "summary.columns = ['Min', 'P90', 'P50', 'P10', 'Max', 'Mean']\n",
    "summary"
   ]
  },
  {
   "cell_type": "markdown",
   "id": "d4878409",
   "metadata": {},
   "source": [
    "export to Excel"
   ]
  },
  {
   "cell_type": "code",
   "execution_count": 76,
   "id": "171b592f",
   "metadata": {},
   "outputs": [],
   "source": [
    "summary.to_excel('./summary.xlsx')"
   ]
  },
  {
   "cell_type": "markdown",
   "id": "f88d2e96",
   "metadata": {},
   "source": [
    "# Where next?\n",
    "\n",
    "- [ ] correlated variables\n",
    "- [ ] area depth from grid\n",
    "- [ ] GRV from 2 grids\n",
    "- [ ] risked distributions\n",
    "- [ ] multiple prospects / consolidation"
   ]
  },
  {
   "cell_type": "code",
   "execution_count": 68,
   "id": "dc4876fb",
   "metadata": {},
   "outputs": [],
   "source": [
    "num_samples = 20_000_000\n",
    "\n",
    "\n",
    "realisations = pd.DataFrame([], columns=params)\n",
    "\n",
    "for k, v in params.items():\n",
    "    realisations[k] = v.rvs(num_samples)"
   ]
  },
  {
   "cell_type": "code",
   "execution_count": 69,
   "id": "4d86c911",
   "metadata": {},
   "outputs": [],
   "source": [
    "realisations.Porosity = realisations.Porosity.clip(lower=0.1)\n",
    "realisations.Sw = realisations.Sw.clip(lower=0.15)\n",
    "realisations['STOOIP'] = (realisations['GRV']\n",
    "                     * realisations['NTG']\n",
    "                     * realisations['Porosity']\n",
    "                     * (1 - realisations['Sw'])\n",
    "                     / realisations['FVF']\n",
    "                     / 1_000 / 159)\n",
    "realisations['Resource'] = realisations['STOOIP'] * realisations['RF']"
   ]
  },
  {
   "cell_type": "code",
   "execution_count": 70,
   "id": "2d37a0a0",
   "metadata": {},
   "outputs": [],
   "source": [
    "summary_stats = realisations.Resource.groupby(by=np.arange(200). \\\n",
    "                                repeat(100_000)). \\\n",
    "                                quantile([0.1, 0.5, 0.9]). \\\n",
    "                                unstack()\n",
    "summary_stats['Mean'] = realisations.Resource.groupby(by=np.arange(200). \\\n",
    "                                repeat(100_000)). \\\n",
    "                                mean()\n",
    "summary_stats = summary_stats / summary_stats.mean()"
   ]
  },
  {
   "cell_type": "code",
   "execution_count": 73,
   "id": "192c0656",
   "metadata": {},
   "outputs": [
    {
     "data": {
      "image/png": "[encoded data removed]",
      "text/plain": [
       "<Figure size 648x432 with 1 Axes>"
      ]
     },
     "metadata": {
      "needs_background": "light"
     },
     "output_type": "display_data"
    },
    {
     "data": {
      "text/plain": [
       "<Figure size 432x288 with 0 Axes>"
      ]
     },
     "metadata": {},
     "output_type": "display_data"
    }
   ],
   "source": [
    "fig, ax = plt.subplots(figsize=(9,6))\n",
    "summary_stats.columns = ['P90', 'P50', 'P10', 'Mean']\n",
    "sns.boxplot(data=summary_stats.melt(value_name='Deviation from Mean'), \n",
    "            x='variable', \n",
    "            y='Deviation from Mean', \n",
    "            ax=ax)\n",
    "ax.yaxis.set_major_formatter(StrMethodFormatter('{x:.1%}'))\n",
    "ax.set_xlabel(None)\n",
    "plt.show()\n",
    "plt.savefig('sensitivity.png')"
   ]
  },
  {
   "cell_type": "code",
   "execution_count": null,
   "id": "495ac61f",
   "metadata": {},
   "outputs": [],
   "source": []
  }
 ],
 "metadata": {
  "kernelspec": {
   "display_name": "Python 3",
   "language": "python",
   "name": "python3"
  },
  "language_info": {
   "codemirror_mode": {
    "name": "ipython",
    "version": 3
   },
   "file_extension": ".py",
   "mimetype": "text/x-python",
   "name": "python",
   "nbconvert_exporter": "python",
   "pygments_lexer": "ipython3",
   "version": "3.7.3"
  }
 },
 "nbformat": 4,
 "nbformat_minor": 5
}
