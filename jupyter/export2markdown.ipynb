{
 "cells": [
  {
   "cell_type": "code",
   "execution_count": 76,
   "id": "23a26c33",
   "metadata": {
    "ExecuteTime": {
     "end_time": "2021-07-27T15:48:54.168877Z",
     "start_time": "2021-07-27T15:48:54.166112Z"
    }
   },
   "outputs": [],
   "source": [
    "from html.parser import HTMLParser\n",
    "import re\n",
    "from urllib.parse import quote_plus\n",
    "from nbformat import read\n",
    "from nbconvert import MarkdownExporter\n",
    "from nbconvert.writers import FilesWriter\n",
    "from nbconvert.nbconvertapp import NbConvertApp\n",
    "from nbconvert.preprocessors import Preprocessor\n",
    "from bs4 import BeautifulSoup"
   ]
  },
  {
   "cell_type": "code",
   "execution_count": 67,
   "id": "8d7e5ac9",
   "metadata": {
    "ExecuteTime": {
     "end_time": "2021-07-27T15:38:01.056804Z",
     "start_time": "2021-07-27T15:38:01.055105Z"
    }
   },
   "outputs": [],
   "source": [
    "notebook = './1-MonteCarlo-Resource-Assessments-part1.ipynb'"
   ]
  },
  {
   "cell_type": "code",
   "execution_count": 68,
   "id": "1772d11f",
   "metadata": {
    "ExecuteTime": {
     "end_time": "2021-07-27T15:38:01.210122Z",
     "start_time": "2021-07-27T15:38:01.200088Z"
    }
   },
   "outputs": [],
   "source": [
    "with open(notebook, 'r', encoding='utf-8') as f:\n",
    "            nb = read(f, 4)\n",
    "        \n",
    "try:\n",
    "    output = quote_plus(\n",
    "        nb.metadata.date + '-' + nb.metadata.title, safe='/'\n",
    "    )\n",
    "except:\n",
    "    output = ''"
   ]
  },
  {
   "cell_type": "code",
   "execution_count": 69,
   "id": "8a49a786",
   "metadata": {
    "ExecuteTime": {
     "end_time": "2021-07-27T15:38:01.348155Z",
     "start_time": "2021-07-27T15:38:01.345619Z"
    }
   },
   "outputs": [],
   "source": [
    "# class MyHTMLParser(HTMLParser):\n",
    "    \n",
    "#     def handle_starttag(self, tag, attrs):\n",
    "#         if tag == 'img':\n",
    "#             for a in attrs:\n",
    "#                 if a[0] == 'src':\n",
    "#                     files.append(a[1])\n"
   ]
  },
  {
   "cell_type": "code",
   "execution_count": 143,
   "id": "66db5e7b",
   "metadata": {
    "ExecuteTime": {
     "end_time": "2021-07-27T16:00:12.657768Z",
     "start_time": "2021-07-27T16:00:12.653134Z"
    }
   },
   "outputs": [],
   "source": [
    "class CustomPreprocess(Preprocessor):\n",
    "\n",
    "    \n",
    "    def preprocess(self, nb, resources):\n",
    "        \n",
    "        global files\n",
    "        files = []\n",
    "\n",
    "        pre = \"\"\"<div class=\"equation\">\\n\\t<div>\"\"\"\n",
    "        post = \"\"\"</div>\\n<div class=\"equation_dots\"></div>\\n\"\"\"\n",
    "        post += \"<div></div>\\n\"\n",
    "        post += \"</div>\\n\"\n",
    "        \n",
    "#         html_parser = MyHTMLParser()\n",
    "        \n",
    "        for cell in nb.cells:\n",
    "            if cell.cell_type == 'markdown':\n",
    "                s = re.sub(\"^\\# .+\\n\\n\", '', cell.source, re.MULTILINE)\n",
    "                s = re.sub(r'\\\\\\\\\\[', pre + r'\\\\[', s)\n",
    "                s = re.sub(r'\\\\\\\\\\]', r'\\\\]' + post, s)\n",
    "                \n",
    "                \n",
    "                soup = BeautifulSoup(s, 'html.parser')\n",
    "                for img in soup.findAll('img'):\n",
    "                    print(img['src'])\n",
    "                    files.append(img['src'])\n",
    "                    img['src'] = '{{ site.url }}' + output + img['src']\n",
    "                s = str(soup)\n",
    "                \n",
    "                \n",
    "                cell.source = s\n",
    "                \n",
    "#                 html_parser.feed(s)\n",
    "                \n",
    "#                 files.append(1)\n",
    "                \n",
    "                \n",
    "        try:\n",
    "            nb.metadata.notebook\n",
    "        except:\n",
    "            nb.metadata.notebook = output\n",
    "            \n",
    "        return nb, resources"
   ]
  },
  {
   "cell_type": "code",
   "execution_count": 144,
   "id": "f0b05e92",
   "metadata": {
    "ExecuteTime": {
     "end_time": "2021-07-27T16:00:12.883889Z",
     "start_time": "2021-07-27T16:00:12.875789Z"
    }
   },
   "outputs": [],
   "source": [
    "md_exporter = MarkdownExporter(\n",
    "    template_name=\"blog-markdown\",\n",
    "    preprocessors=[CustomPreprocess]\n",
    ")"
   ]
  },
  {
   "cell_type": "code",
   "execution_count": 145,
   "id": "69b0a04a",
   "metadata": {
    "ExecuteTime": {
     "end_time": "2021-07-27T16:00:13.047006Z",
     "start_time": "2021-07-27T16:00:13.044700Z"
    }
   },
   "outputs": [],
   "source": [
    "md_writer = FilesWriter(\n",
    "    build_directory = \"/Users/dom/Downloads/nbconvert_output\",\n",
    ")\n"
   ]
  },
  {
   "cell_type": "code",
   "execution_count": 146,
   "id": "30babd40",
   "metadata": {
    "ExecuteTime": {
     "end_time": "2021-07-27T16:00:13.184482Z",
     "start_time": "2021-07-27T16:00:13.181833Z"
    }
   },
   "outputs": [],
   "source": [
    "app = NbConvertApp(\n",
    "    output_base = output\n",
    ")\n",
    "app.exporter = md_exporter\n",
    "app.writer = md_writer"
   ]
  },
  {
   "cell_type": "code",
   "execution_count": 147,
   "id": "61294171",
   "metadata": {
    "ExecuteTime": {
     "end_time": "2021-07-27T16:00:13.461363Z",
     "start_time": "2021-07-27T16:00:13.325701Z"
    }
   },
   "outputs": [
    {
     "name": "stderr",
     "output_type": "stream",
     "text": [
      "[NbConvertApp] Converting notebook ./1-MonteCarlo-Resource-Assessments-part1.ipynb to \n"
     ]
    },
    {
     "name": "stdout",
     "output_type": "stream",
     "text": [
      "./assets/1-sensitivity.png\n"
     ]
    }
   ],
   "source": [
    "md_writer.files = files\n",
    "app.convert_single_notebook(notebook)"
   ]
  },
  {
   "cell_type": "code",
   "execution_count": 148,
   "id": "48de6274",
   "metadata": {
    "ExecuteTime": {
     "end_time": "2021-07-27T16:00:14.927448Z",
     "start_time": "2021-07-27T16:00:14.924941Z"
    }
   },
   "outputs": [
    {
     "data": {
      "text/plain": [
       "['./assets/1-sensitivity.png']"
      ]
     },
     "execution_count": 148,
     "metadata": {},
     "output_type": "execute_result"
    }
   ],
   "source": [
    "files"
   ]
  },
  {
   "cell_type": "code",
   "execution_count": null,
   "id": "9a73f31a",
   "metadata": {},
   "outputs": [],
   "source": []
  }
 ],
 "metadata": {
  "hide_input": false,
  "kernelspec": {
   "display_name": "Python 3",
   "language": "python",
   "name": "python3"
  },
  "language_info": {
   "codemirror_mode": {
    "name": "ipython",
    "version": 3
   },
   "file_extension": ".py",
   "mimetype": "text/x-python",
   "name": "python",
   "nbconvert_exporter": "python",
   "pygments_lexer": "ipython3",
   "version": "3.7.3"
  }
 },
 "nbformat": 4,
 "nbformat_minor": 5
}
