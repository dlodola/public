{
 "cells": [
  {
   "cell_type": "code",
   "execution_count": 206,
   "id": "19691fa6",
   "metadata": {
    "ExecuteTime": {
     "end_time": "2021-07-27T12:48:43.791018Z",
     "start_time": "2021-07-27T12:48:43.788627Z"
    }
   },
   "outputs": [],
   "source": [
    "import re\n",
    "from urllib.parse import quote_plus\n",
    "from nbformat import read\n",
    "from nbconvert import MarkdownExporter\n",
    "from nbconvert.writers import FilesWriter\n",
    "from nbconvert.nbconvertapp import NbConvertApp\n",
    "from nbconvert.preprocessors import Preprocessor"
   ]
  },
  {
   "cell_type": "code",
   "execution_count": 126,
   "id": "2e9cc298",
   "metadata": {
    "ExecuteTime": {
     "end_time": "2021-07-27T11:59:02.183092Z",
     "start_time": "2021-07-27T11:59:02.181246Z"
    }
   },
   "outputs": [],
   "source": [
    "notebook = './1-MonteCarlo-Resource-Assessments-part1.ipynb'"
   ]
  },
  {
   "cell_type": "code",
   "execution_count": 263,
   "id": "24ccef3f",
   "metadata": {
    "ExecuteTime": {
     "end_time": "2021-07-27T12:56:28.516902Z",
     "start_time": "2021-07-27T12:56:28.506547Z"
    }
   },
   "outputs": [],
   "source": [
    "with open(notebook, 'r', encoding='utf-8') as f:\n",
    "            nb = read(f, 4)\n",
    "        \n",
    "try:\n",
    "    output = quote_plus(\n",
    "        nb.metadata.date + '_' + nb.metadata.title, safe='/'\n",
    "    )\n",
    "except:\n",
    "    output = ''"
   ]
  },
  {
   "cell_type": "code",
   "execution_count": 704,
   "id": "e0ed8ab4",
   "metadata": {
    "ExecuteTime": {
     "end_time": "2021-07-27T14:52:39.369457Z",
     "start_time": "2021-07-27T14:52:39.365828Z"
    }
   },
   "outputs": [],
   "source": [
    "class Remove_H1(Preprocessor):\n",
    "    \"\"\"A Pelican specific preprocessor to remove some of the cells of a notebook\"\"\"\n",
    "\n",
    "#     # I could also read the cells from nb.metadata.pelican if someone wrote a JS extension,\n",
    "#     # but for now I'll stay with configurable value.\n",
    "#     start = Integer(0,  help=\"first cell of notebook to be converted\").tag(config=True)\n",
    "#     end   = Integer(-1, help=\"last cell of notebook to be converted\").tag(config=True)\n",
    "\n",
    "    def preprocess(self, nb, resources):\n",
    "\n",
    "        for cell in nb.cells:\n",
    "            if cell.cell_type == 'markdown':\n",
    "#                 s = re.search(\"^\\# .+\\n\\n\", cell.source)\n",
    "                s = re.sub(\"^\\# .+\\n\\n\", '', cell.source, re.MULTILINE)\n",
    "#                 cell.source = s\n",
    "        \n",
    "#                 pattern = r\"\\\\\\[(?!\\\\\\[).*\\\\\\]\"\n",
    "# #                 pattern = r\"^(?!\\\\\\]).*\\\\\\]\"\n",
    "#                 pattern = r\"(\\\\\\[)((?:(?!\\1)[\\s\\S])*)(\\\\\\])\"\n",
    "# #                 s = re.findall(pattern, s, re.MULTILINE | re.DOTALL)\n",
    "                pre = \"\"\"<div class=\"equation\">\\n\\t<div>\"\"\"\n",
    "                post = \"\"\"</div>\\n<div class=\"equation_dots\"></div>\\n\"\"\"\n",
    "                post += \"<div></div>\\n\"\n",
    "                post += \"</div>\\n\"\n",
    "                s = re.sub(r'\\\\\\\\\\[', pre + r'\\\\\\\\[', s)\n",
    "                s = re.sub(r'\\\\\\\\\\]', r'\\\\\\\\]' + post, s)\n",
    "                cell.source = s\n",
    "        return nb, resources"
   ]
  },
  {
   "cell_type": "code",
   "execution_count": 705,
   "id": "f61ef5c8",
   "metadata": {
    "ExecuteTime": {
     "end_time": "2021-07-27T14:52:39.550869Z",
     "start_time": "2021-07-27T14:52:39.542130Z"
    }
   },
   "outputs": [],
   "source": [
    "md_exporter = MarkdownExporter(\n",
    "    template_name=\"blog-markdown\",\n",
    "    preprocessors=[Remove_H1]\n",
    ")\n",
    "# md_exporter.preprocessors = [Remove_H1]"
   ]
  },
  {
   "cell_type": "code",
   "execution_count": 706,
   "id": "8e127db7",
   "metadata": {
    "ExecuteTime": {
     "end_time": "2021-07-27T14:52:39.695690Z",
     "start_time": "2021-07-27T14:52:39.693253Z"
    }
   },
   "outputs": [],
   "source": [
    "md_writer = FilesWriter(\n",
    "    build_directory = \"/Users/dom/Downloads/nbconvert_output\",\n",
    ")\n"
   ]
  },
  {
   "cell_type": "code",
   "execution_count": 707,
   "id": "873ea49c",
   "metadata": {
    "ExecuteTime": {
     "end_time": "2021-07-27T14:52:39.814412Z",
     "start_time": "2021-07-27T14:52:39.811793Z"
    }
   },
   "outputs": [],
   "source": [
    "app = NbConvertApp(\n",
    "    output_base = output\n",
    ")\n",
    "app.exporter = md_exporter\n",
    "app.writer = md_writer"
   ]
  },
  {
   "cell_type": "code",
   "execution_count": 708,
   "id": "503d2481",
   "metadata": {
    "ExecuteTime": {
     "end_time": "2021-07-27T14:52:40.095466Z",
     "start_time": "2021-07-27T14:52:39.961222Z"
    }
   },
   "outputs": [
    {
     "name": "stderr",
     "output_type": "stream",
     "text": [
      "[NbConvertApp] Converting notebook ./1-MonteCarlo-Resource-Assessments-part1.ipynb to \n"
     ]
    }
   ],
   "source": [
    "app.convert_single_notebook(notebook)"
   ]
  },
  {
   "cell_type": "code",
   "execution_count": 709,
   "id": "13d1a0af",
   "metadata": {
    "ExecuteTime": {
     "end_time": "2021-07-27T14:52:41.088283Z",
     "start_time": "2021-07-27T14:52:41.085520Z"
    }
   },
   "outputs": [
    {
     "data": {
      "text/plain": [
       "[__main__.Remove_H1]"
      ]
     },
     "execution_count": 709,
     "metadata": {},
     "output_type": "execute_result"
    }
   ],
   "source": [
    "md_exporter.preprocessors"
   ]
  },
  {
   "cell_type": "code",
   "execution_count": 427,
   "id": "5c55de0a",
   "metadata": {
    "ExecuteTime": {
     "end_time": "2021-07-27T13:26:16.681884Z",
     "start_time": "2021-07-27T13:26:16.679717Z"
    }
   },
   "outputs": [],
   "source": [
    "prog = re.compile('.', re.DOTALL | re.MULTILINE)"
   ]
  },
  {
   "cell_type": "code",
   "execution_count": null,
   "id": "6717998a",
   "metadata": {},
   "outputs": [],
   "source": []
  }
 ],
 "metadata": {
  "hide_input": false,
  "kernelspec": {
   "display_name": "Python 3",
   "language": "python",
   "name": "python3"
  },
  "language_info": {
   "codemirror_mode": {
    "name": "ipython",
    "version": 3
   },
   "file_extension": ".py",
   "mimetype": "text/x-python",
   "name": "python",
   "nbconvert_exporter": "python",
   "pygments_lexer": "ipython3",
   "version": "3.7.3"
  }
 },
 "nbformat": 4,
 "nbformat_minor": 5
}
