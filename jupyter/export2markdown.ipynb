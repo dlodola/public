{
 "cells": [
  {
   "cell_type": "code",
   "execution_count": 166,
   "id": "781e9dca",
   "metadata": {
    "ExecuteTime": {
     "end_time": "2021-07-27T16:13:30.287830Z",
     "start_time": "2021-07-27T16:13:30.285119Z"
    }
   },
   "outputs": [],
   "source": [
    "from html.parser import HTMLParser\n",
    "from os.path import basename\n",
    "import re\n",
    "from urllib.parse import quote_plus, quote\n",
    "from nbformat import read\n",
    "from nbconvert import MarkdownExporter\n",
    "from nbconvert.writers import FilesWriter\n",
    "from nbconvert.nbconvertapp import NbConvertApp\n",
    "from nbconvert.preprocessors import Preprocessor\n",
    "from bs4 import BeautifulSoup"
   ]
  },
  {
   "cell_type": "code",
   "execution_count": 67,
   "id": "5f53ee5b",
   "metadata": {
    "ExecuteTime": {
     "end_time": "2021-07-27T15:38:01.056804Z",
     "start_time": "2021-07-27T15:38:01.055105Z"
    }
   },
   "outputs": [],
   "source": [
    "notebook = './1-MonteCarlo-Resource-Assessments-part1.ipynb'"
   ]
  },
  {
   "cell_type": "code",
   "execution_count": 201,
   "id": "336e0300",
   "metadata": {
    "ExecuteTime": {
     "end_time": "2021-07-27T16:21:32.150046Z",
     "start_time": "2021-07-27T16:21:32.139530Z"
    }
   },
   "outputs": [],
   "source": [
    "with open(notebook, 'r', encoding='utf-8') as f:\n",
    "            nb = read(f, 4)\n",
    "        \n",
    "try:\n",
    "    output = quote_plus(\n",
    "        nb.metadata.date + '-' + nb.metadata.title, safe='/'\n",
    "    )\n",
    "except:\n",
    "    output = ''"
   ]
  },
  {
   "cell_type": "code",
   "execution_count": 202,
   "id": "fd3a0b07",
   "metadata": {
    "ExecuteTime": {
     "end_time": "2021-07-27T16:21:32.326398Z",
     "start_time": "2021-07-27T16:21:32.324736Z"
    }
   },
   "outputs": [],
   "source": [
    "# class MyHTMLParser(HTMLParser):\n",
    "    \n",
    "#     def handle_starttag(self, tag, attrs):\n",
    "#         if tag == 'img':\n",
    "#             for a in attrs:\n",
    "#                 if a[0] == 'src':\n",
    "#                     files.append(a[1])\n"
   ]
  },
  {
   "cell_type": "code",
   "execution_count": 299,
   "id": "c9db89a7",
   "metadata": {
    "ExecuteTime": {
     "end_time": "2021-07-27T16:32:58.165879Z",
     "start_time": "2021-07-27T16:32:58.160212Z"
    }
   },
   "outputs": [],
   "source": [
    "class CustomPreprocess(Preprocessor):\n",
    "\n",
    "    \n",
    "    def preprocess(self, nb, resources):\n",
    "        \n",
    "        global files\n",
    "        files = []\n",
    "\n",
    "        pre = \"\"\"<div class=\"equation\">\\n\\t<div>\"\"\"\n",
    "        post = \"\"\"</div>\\n<div class=\"equation_dots\"></div>\\n\"\"\"\n",
    "        post += \"<div></div>\\n\"\n",
    "        post += \"</div>\\n\"\n",
    "        \n",
    "        img_pre = '{{ site.url }}' + 'assets/images/posts/' + quote(output) \n",
    "        \n",
    "        for cell in nb.cells:\n",
    "            if cell.cell_type == 'markdown':\n",
    "                s = re.sub(\"^\\# .+\\n\\n\", '', cell.source, re.MULTILINE)\n",
    "                s = re.sub(r'\\\\\\\\\\[', pre + r'\\\\[', s)\n",
    "                s = re.sub(r'\\\\\\\\\\]', r'\\\\]' + post, s)\n",
    "                \n",
    "                \n",
    "                soup = BeautifulSoup(s, 'html.parser')\n",
    "                for img in soup.findAll('img'):\n",
    "                    files.append(img['src'])\n",
    "                    img['src'] = img_pre + basename(img['src'])\n",
    "                    del img['width']\n",
    "                    img['class'] = 'scaled'\n",
    "                \n",
    "                \n",
    "                for caption in soup.findAll('figcaption'):\n",
    "                    c = caption.get_text()\n",
    "                    c = re.sub('^Figure \\d+: ', '', c)\n",
    "                    caption.string = c\n",
    "                    print(c)\n",
    "                    \n",
    "                s = str(soup)\n",
    "                \n",
    "                \n",
    "                cell.source = s\n",
    "                \n",
    "                \n",
    "        try:\n",
    "            nb.metadata.notebook\n",
    "        except:\n",
    "            nb.metadata.notebook = output\n",
    "            \n",
    "        return nb, resources"
   ]
  },
  {
   "cell_type": "code",
   "execution_count": 300,
   "id": "e6ee2e19",
   "metadata": {
    "ExecuteTime": {
     "end_time": "2021-07-27T16:32:58.471002Z",
     "start_time": "2021-07-27T16:32:58.462620Z"
    }
   },
   "outputs": [],
   "source": [
    "md_exporter = MarkdownExporter(\n",
    "    template_name=\"blog-markdown\",\n",
    "    preprocessors=[CustomPreprocess]\n",
    ")"
   ]
  },
  {
   "cell_type": "code",
   "execution_count": 301,
   "id": "61f889a9",
   "metadata": {
    "ExecuteTime": {
     "end_time": "2021-07-27T16:32:58.617246Z",
     "start_time": "2021-07-27T16:32:58.614746Z"
    }
   },
   "outputs": [],
   "source": [
    "md_writer = FilesWriter(\n",
    "    build_directory = \"/Users/dom/Downloads/nbconvert_output\",\n",
    ")\n"
   ]
  },
  {
   "cell_type": "code",
   "execution_count": 302,
   "id": "94e144e0",
   "metadata": {
    "ExecuteTime": {
     "end_time": "2021-07-27T16:32:58.754327Z",
     "start_time": "2021-07-27T16:32:58.751580Z"
    }
   },
   "outputs": [],
   "source": [
    "app = NbConvertApp(\n",
    "    output_base = output\n",
    ")\n",
    "app.exporter = md_exporter\n",
    "app.writer = md_writer"
   ]
  },
  {
   "cell_type": "code",
   "execution_count": 303,
   "id": "b8bb59ed",
   "metadata": {
    "ExecuteTime": {
     "end_time": "2021-07-27T16:32:59.056036Z",
     "start_time": "2021-07-27T16:32:58.919709Z"
    }
   },
   "outputs": [
    {
     "name": "stderr",
     "output_type": "stream",
     "text": [
      "[NbConvertApp] Converting notebook ./1-MonteCarlo-Resource-Assessments-part1.ipynb to \n"
     ]
    },
    {
     "name": "stdout",
     "output_type": "stream",
     "text": [
      "Figure title.\n"
     ]
    }
   ],
   "source": [
    "md_writer.files = files\n",
    "app.convert_single_notebook(notebook)"
   ]
  },
  {
   "cell_type": "code",
   "execution_count": 278,
   "id": "d8bec217",
   "metadata": {
    "ExecuteTime": {
     "end_time": "2021-07-27T16:29:08.977650Z",
     "start_time": "2021-07-27T16:29:08.975170Z"
    }
   },
   "outputs": [
    {
     "data": {
      "text/plain": [
       "['./assets/1-sensitivity.png']"
      ]
     },
     "execution_count": 278,
     "metadata": {},
     "output_type": "execute_result"
    }
   ],
   "source": [
    "files"
   ]
  },
  {
   "cell_type": "code",
   "execution_count": 165,
   "id": "fb228bfd",
   "metadata": {
    "ExecuteTime": {
     "end_time": "2021-07-27T16:09:48.025730Z",
     "start_time": "2021-07-27T16:09:48.023248Z"
    }
   },
   "outputs": [
    {
     "data": {
      "text/plain": [
       "ParseResult(scheme='', netloc='', path='2021-07-27-Monte+Carlo+resource+assessments+in+Python', params='', query='', fragment='')"
      ]
     },
     "execution_count": 165,
     "metadata": {},
     "output_type": "execute_result"
    }
   ],
   "source": [
    "urlparse(output)"
   ]
  },
  {
   "cell_type": "code",
   "execution_count": null,
   "id": "742431e6",
   "metadata": {},
   "outputs": [],
   "source": []
  }
 ],
 "metadata": {
  "hide_input": false,
  "kernelspec": {
   "display_name": "Python 3",
   "language": "python",
   "name": "python3"
  },
  "language_info": {
   "codemirror_mode": {
    "name": "ipython",
    "version": 3
   },
   "file_extension": ".py",
   "mimetype": "text/x-python",
   "name": "python",
   "nbconvert_exporter": "python",
   "pygments_lexer": "ipython3",
   "version": "3.7.3"
  }
 },
 "nbformat": 4,
 "nbformat_minor": 5
}
