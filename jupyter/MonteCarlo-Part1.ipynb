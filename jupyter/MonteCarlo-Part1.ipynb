{
 "cells": [
  {
   "cell_type": "code",
   "execution_count": 4,
   "id": "e1f892c6",
   "metadata": {},
   "outputs": [],
   "source": [
    "from math import log, exp\n",
    "\n",
    "import matplotlib.pyplot as plt\n",
    "from matplotlib.ticker import StrMethodFormatter\n",
    "import numpy as np\n",
    "import pandas as pd\n",
    "from scipy.stats import (norm, lognorm, \n",
    "                         gamma, percentileofscore)\n",
    "\n",
    "import seaborn as sns"
   ]
  },
  {
   "cell_type": "markdown",
   "id": "83284016",
   "metadata": {
    "slideshow": {
     "slide_type": "-"
    }
   },
   "source": [
    "# Section\n",
    "\n",
    "- Free\n",
    "- Full control - not a black box\n",
    "- fully customizable\n",
    "- easy export of results (images/Excel\n",
    "\n",
    "## Subsection\n",
    "\n",
    "lorem ipsum\n",
    "\n",
    "[SciPy's](https://www.scipy.org) [*statistical submodule*](https://docs.scipy.org/doc/scipy/reference/stats.html)\n",
    "[*norm*](https://docs.scipy.org/doc/scipy/reference/generated/scipy.stats.norm.html), \n",
    "[*lognorm*](https://docs.scipy.org/doc/scipy/reference/generated/scipy.stats.lognorm.html), \n",
    "[*beta*](https://docs.scipy.org/doc/scipy/reference/generated/scipy.stats.beta.html), \n",
    "[*triang*](https://docs.scipy.org/doc/scipy/reference/generated/scipy.stats.triang.html), &\n",
    "[*truncnorm*](https://docs.scipy.org/doc/scipy/reference/generated/scipy.stats.truncnorm.html) continous distributions.\n",
    "\n",
    "random variates method [*rvs( )*](https://docs.scipy.org/doc/scipy/reference/generated/scipy.stats.rv_continuous.rvs.html)\n",
    "\n",
    "[*clip( )*](https://pandas.pydata.org/docs/reference/api/pandas.DataFrame.clip.html) method\n",
    "[*describe( )*](https://pandas.pydata.org/docs/reference/api/pandas.DataFrame.describe.html?highlight=describe) method\n",
    "\n",
    "# Using SciPy to generate random variates from a distribution\n",
    "\n",
    "`distribution = norm(loc=1, scale=2)`\n",
    "\n",
    "`distribution.rvs(n)`"
   ]
  },
  {
   "cell_type": "code",
   "execution_count": 19,
   "id": "46e19473",
   "metadata": {
    "scrolled": false
   },
   "outputs": [
    {
     "data": {
      "image/png": "[encoded data removed]",
      "text/plain": [
       "<Figure size 432x288 with 1 Axes>"
      ]
     },
     "metadata": {
      "needs_background": "light"
     },
     "output_type": "display_data"
    }
   ],
   "source": [
    "# define distribution\n",
    "distribution = norm(loc=1, scale=2)\n",
    "\n",
    "# generate x y data for the ideal distribution\n",
    "x = np.linspace(-6.5, 8.5)\n",
    "y = distribution.pdf(x)\n",
    "\n",
    "# create Pyplot axes for plotting results\n",
    "fig, ax = plt.subplots()\n",
    "\n",
    "n = 10_000\n",
    "\n",
    "# plot a histogram of the random variates\n",
    "ax.hist(distribution.rvs(int(n)), bins=50, density=True,\n",
    "        fc='0.85', ec='0.5', lw=0.5,\n",
    "        label='Sample data')\n",
    "    \n",
    "# plot the ideal distribution\n",
    "ax.plot(x, y, c='k', ls=':', \n",
    "        label='Distribution')\n",
    "    \n",
    "\n",
    "ax.set_title(\"$n={:,.0f}$\".format(n))\n",
    "ax.legend()\n",
    "plt.show()\n",
    "\n"
   ]
  },
  {
   "cell_type": "code",
   "execution_count": 7,
   "id": "89d7216a",
   "metadata": {},
   "outputs": [
    {
     "name": "stdout",
     "output_type": "stream",
     "text": [
      "49.7 ms ± 16.2 ms per loop (mean ± std. dev. of 7 runs, 10 loops each)\n"
     ]
    }
   ],
   "source": [
    "%%timeit \n",
    "distribution.rvs(int(1_000_000))"
   ]
  },
  {
   "cell_type": "markdown",
   "id": "7feec5aa",
   "metadata": {},
   "source": [
    "To make things a little simpler going forward, we can create some functions to instantiate SciPy distribution objects using more user firendly parameters, especially for the log-normal distribution. The two functions below do this taking the *P<sub>90</sub>* and *P<sub>10</sub>* as input parameters."
   ]
  },
  {
   "cell_type": "code",
   "execution_count": 9,
   "id": "c88e2510",
   "metadata": {},
   "outputs": [],
   "source": [
    "def norm_dist(p90, p10):\n",
    "    if p90 > p10:\n",
    "        p90, p10 = p10, p90\n",
    "    mean = (p90 + p10) / 2 \n",
    "    std = (p10 - p90) / (norm.ppf(0.9) - norm.ppf(0.1))\n",
    "    return norm(loc=mean, scale=std)\n",
    "    \n",
    "\n",
    "def lognorm_dist(p90, p10):\n",
    "    if p90 > p10:\n",
    "        p90, p10 = p10, p90\n",
    "    std = log(p10 / p90) / (norm.ppf(0.9) - norm.ppf(0.1))\n",
    "    mean = (log(p10) - 2**0.5 * std \n",
    "            * (gamma.ppf(0.8, a=0.5, scale=1))**0.5)\n",
    "    return lognorm(s=std, scale=exp(mean))"
   ]
  },
  {
   "cell_type": "markdown",
   "id": "43d3bc34",
   "metadata": {},
   "source": [
    "# Generating random variates for volumetric parameters\n",
    "\n",
    "We can now "
   ]
  },
  {
   "cell_type": "code",
   "execution_count": 11,
   "id": "b183f455",
   "metadata": {},
   "outputs": [],
   "source": [
    "params = {\n",
    "    'GRV':      lognorm_dist(p90=10e6, p10=25e6),\n",
    "    'NTG':      norm_dist(p90=0.6, p10=0.8),\n",
    "    'Porosity': norm_dist(p90=0.125, p10=0.225),\n",
    "    'Sw':       norm_dist(p90=0.15, p10=0.45),\n",
    "    'FVF':      norm_dist(p90=1.1, p10=1.3),\n",
    "    'RF':       norm_dist(p90=0.15, p10=0.25),\n",
    "}\n",
    "realisations = pd.DataFrame([], columns=params)"
   ]
  },
  {
   "cell_type": "code",
   "execution_count": 27,
   "id": "d4046b9a",
   "metadata": {},
   "outputs": [
    {
     "data": {
      "text/html": [
       "<div>\n",
       "<style scoped>\n",
       "    .dataframe tbody tr th:only-of-type {\n",
       "        vertical-align: middle;\n",
       "    }\n",
       "\n",
       "    .dataframe tbody tr th {\n",
       "        vertical-align: top;\n",
       "    }\n",
       "\n",
       "    .dataframe thead th {\n",
       "        text-align: right;\n",
       "    }\n",
       "</style>\n",
       "<table border=\"1\" class=\"dataframe\">\n",
       "  <thead>\n",
       "    <tr style=\"text-align: right;\">\n",
       "      <th></th>\n",
       "      <th>GRV</th>\n",
       "      <th>NTG</th>\n",
       "      <th>Porosity</th>\n",
       "      <th>Sw</th>\n",
       "      <th>FVF</th>\n",
       "      <th>RF</th>\n",
       "      <th>STOOIP</th>\n",
       "      <th>Resource</th>\n",
       "    </tr>\n",
       "  </thead>\n",
       "  <tbody>\n",
       "    <tr>\n",
       "      <th>count</th>\n",
       "      <td>1.000000e+05</td>\n",
       "      <td>100000.000000</td>\n",
       "      <td>100000.000000</td>\n",
       "      <td>100000.000000</td>\n",
       "      <td>100000.000000</td>\n",
       "      <td>100000.000000</td>\n",
       "      <td>100000.000000</td>\n",
       "      <td>100000.000000</td>\n",
       "    </tr>\n",
       "    <tr>\n",
       "      <th>mean</th>\n",
       "      <td>1.684777e+07</td>\n",
       "      <td>0.700071</td>\n",
       "      <td>0.175113</td>\n",
       "      <td>0.299733</td>\n",
       "      <td>1.200095</td>\n",
       "      <td>0.199904</td>\n",
       "      <td>7.571290</td>\n",
       "      <td>1.515254</td>\n",
       "    </tr>\n",
       "    <tr>\n",
       "      <th>std</th>\n",
       "      <td>6.192056e+06</td>\n",
       "      <td>0.078127</td>\n",
       "      <td>0.039085</td>\n",
       "      <td>0.117200</td>\n",
       "      <td>0.078042</td>\n",
       "      <td>0.039151</td>\n",
       "      <td>3.689749</td>\n",
       "      <td>0.807746</td>\n",
       "    </tr>\n",
       "    <tr>\n",
       "      <th>min</th>\n",
       "      <td>3.416049e+06</td>\n",
       "      <td>0.374328</td>\n",
       "      <td>0.003703</td>\n",
       "      <td>-0.224625</td>\n",
       "      <td>0.883863</td>\n",
       "      <td>0.030578</td>\n",
       "      <td>0.736260</td>\n",
       "      <td>0.088545</td>\n",
       "    </tr>\n",
       "    <tr>\n",
       "      <th>10%</th>\n",
       "      <td>9.997610e+06</td>\n",
       "      <td>0.600191</td>\n",
       "      <td>0.125161</td>\n",
       "      <td>0.150009</td>\n",
       "      <td>1.100049</td>\n",
       "      <td>0.149780</td>\n",
       "      <td>3.696032</td>\n",
       "      <td>0.686620</td>\n",
       "    </tr>\n",
       "    <tr>\n",
       "      <th>50%</th>\n",
       "      <td>1.581997e+07</td>\n",
       "      <td>0.700205</td>\n",
       "      <td>0.175063</td>\n",
       "      <td>0.299755</td>\n",
       "      <td>1.200163</td>\n",
       "      <td>0.199960</td>\n",
       "      <td>6.836347</td>\n",
       "      <td>1.345720</td>\n",
       "    </tr>\n",
       "    <tr>\n",
       "      <th>90%</th>\n",
       "      <td>2.495042e+07</td>\n",
       "      <td>0.800458</td>\n",
       "      <td>0.225157</td>\n",
       "      <td>0.449713</td>\n",
       "      <td>1.300139</td>\n",
       "      <td>0.250062</td>\n",
       "      <td>12.361697</td>\n",
       "      <td>2.559564</td>\n",
       "    </tr>\n",
       "    <tr>\n",
       "      <th>max</th>\n",
       "      <td>7.279686e+07</td>\n",
       "      <td>1.041537</td>\n",
       "      <td>0.364169</td>\n",
       "      <td>0.887729</td>\n",
       "      <td>1.548159</td>\n",
       "      <td>0.355117</td>\n",
       "      <td>41.972918</td>\n",
       "      <td>9.653981</td>\n",
       "    </tr>\n",
       "  </tbody>\n",
       "</table>\n",
       "</div>"
      ],
      "text/plain": [
       "                GRV            NTG       Porosity             Sw  \\\n",
       "count  1.000000e+05  100000.000000  100000.000000  100000.000000   \n",
       "mean   1.684777e+07       0.700071       0.175113       0.299733   \n",
       "std    6.192056e+06       0.078127       0.039085       0.117200   \n",
       "min    3.416049e+06       0.374328       0.003703      -0.224625   \n",
       "10%    9.997610e+06       0.600191       0.125161       0.150009   \n",
       "50%    1.581997e+07       0.700205       0.175063       0.299755   \n",
       "90%    2.495042e+07       0.800458       0.225157       0.449713   \n",
       "max    7.279686e+07       1.041537       0.364169       0.887729   \n",
       "\n",
       "                 FVF             RF         STOOIP       Resource  \n",
       "count  100000.000000  100000.000000  100000.000000  100000.000000  \n",
       "mean        1.200095       0.199904       7.571290       1.515254  \n",
       "std         0.078042       0.039151       3.689749       0.807746  \n",
       "min         0.883863       0.030578       0.736260       0.088545  \n",
       "10%         1.100049       0.149780       3.696032       0.686620  \n",
       "50%         1.200163       0.199960       6.836347       1.345720  \n",
       "90%         1.300139       0.250062      12.361697       2.559564  \n",
       "max         1.548159       0.355117      41.972918       9.653981  "
      ]
     },
     "execution_count": 27,
     "metadata": {},
     "output_type": "execute_result"
    }
   ],
   "source": [
    "num_samples = 100_000\n",
    "\n",
    "for parameter, distr in params.items():\n",
    "    realisations[parameter] = distr.rvs(num_samples)\n",
    "    \n",
    "realisations.describe(percentiles=[0.1, 0.5, 0.9],)"
   ]
  },
  {
   "cell_type": "code",
   "execution_count": 14,
   "id": "b2757a99",
   "metadata": {},
   "outputs": [],
   "source": [
    "realisations.Porosity = realisations.Porosity.clip(lower=0.1)\n",
    "realisations.Sw = realisations.Sw.clip(lower=0.15, upper=0.70)"
   ]
  },
  {
   "cell_type": "markdown",
   "id": "76d58c29",
   "metadata": {},
   "source": [
    "# Volumetric calculations and reporting"
   ]
  },
  {
   "cell_type": "code",
   "execution_count": 15,
   "id": "23664b26",
   "metadata": {},
   "outputs": [],
   "source": [
    "realisations['STOOIP'] = (realisations['GRV']\n",
    "                     * realisations['NTG']\n",
    "                     * realisations['Porosity']\n",
    "                     * (1 - realisations['Sw'])\n",
    "                     / realisations['FVF']\n",
    "                     / 1_000 / 159)\n",
    "realisations['Resource'] = realisations['STOOIP'] * realisations['RF']"
   ]
  },
  {
   "cell_type": "code",
   "execution_count": 51,
   "id": "55aa250b",
   "metadata": {},
   "outputs": [
    {
     "data": {
      "image/png": "[encoded data removed]",
      "text/plain": [
       "<Figure size 597.6x842.4 with 2 Axes>"
      ]
     },
     "metadata": {
      "needs_background": "light"
     },
     "output_type": "display_data"
    }
   ],
   "source": [
    "fig, ax = plt.subplots(nrows=2, figsize=(8.3, 11.7))\n",
    "\n",
    "# display histogram of distribution in first subplot\n",
    "sns.histplot(realisations.STOOIP, ax=ax[0], stat='probability', bins=40)\n",
    "# display empirical cumulative distribution function\n",
    "# in second subplot\n",
    "sns.ecdfplot(realisations.STOOIP, ax=ax[1])\n",
    "\n",
    "# display key percentiles and mean on cumulative plot\n",
    "ax[0].set_xlim(left=0)\n",
    "ax[0].set_ylim(ax[0].get_ylim()) # freeze ylim\n",
    "ax[1].set_xlim(ax[0].get_xlim())\n",
    "y_max = ax[0].get_ylim()[1]\n",
    "ls = {'c':'k', 'ls': '--', 'lw': '1'}\n",
    "for p in [0.1, 0.5, 0.9]:\n",
    "    q = realisations.STOOIP.quantile(p)\n",
    "    ax[0].plot([q] * 2, [0, y_max], **ls)\n",
    "    ax[1].plot([0] + [q] * 2,\n",
    "               [p] * 2 + [0],\n",
    "               **ls)\n",
    "    ax[1].annotate('{:.1f}'.format(q), \n",
    "                   (q, p),\n",
    "                   xytext=(3, 3),\n",
    "                   textcoords='offset pixels',\n",
    "                   c='k')\n",
    "    \n",
    "ls_mean = {'c':'r', 'ls': '--', 'lw': '1'}\n",
    "mean = realisations.STOOIP.mean()\n",
    "Pmean = percentileofscore(realisations.STOOIP,\n",
    "                          mean, kind='weak') / 100\n",
    "ax[0].plot([mean] * 2, [0, y_max],\n",
    "           **ls_mean)\n",
    "ax[1].plot([0] + [mean] * 2, [Pmean] * 2 + [0],\n",
    "           **ls_mean)\n",
    "ax[1].annotate('$Mean={:.1f}$'.format(mean), \n",
    "               (mean, Pmean),\n",
    "               xytext=(3, 3),\n",
    "               textcoords='offset pixels',\n",
    "               c='r')\n",
    "\n",
    "plt.show()"
   ]
  },
  {
   "cell_type": "code",
   "execution_count": 26,
   "id": "5e76f2b0",
   "metadata": {},
   "outputs": [
    {
     "data": {
      "text/html": [
       "<div>\n",
       "<style scoped>\n",
       "    .dataframe tbody tr th:only-of-type {\n",
       "        vertical-align: middle;\n",
       "    }\n",
       "\n",
       "    .dataframe tbody tr th {\n",
       "        vertical-align: top;\n",
       "    }\n",
       "\n",
       "    .dataframe thead th {\n",
       "        text-align: right;\n",
       "    }\n",
       "</style>\n",
       "<table border=\"1\" class=\"dataframe\">\n",
       "  <thead>\n",
       "    <tr style=\"text-align: right;\">\n",
       "      <th></th>\n",
       "      <th>Min</th>\n",
       "      <th>P90</th>\n",
       "      <th>P50</th>\n",
       "      <th>P10</th>\n",
       "      <th>Max</th>\n",
       "      <th>Mean</th>\n",
       "    </tr>\n",
       "  </thead>\n",
       "  <tbody>\n",
       "    <tr>\n",
       "      <th>GRV</th>\n",
       "      <td>2.867790e+06</td>\n",
       "      <td>9.967899e+06</td>\n",
       "      <td>1.579696e+07</td>\n",
       "      <td>2.503827e+07</td>\n",
       "      <td>7.962521e+07</td>\n",
       "      <td>1.685423e+07</td>\n",
       "    </tr>\n",
       "    <tr>\n",
       "      <th>NTG</th>\n",
       "      <td>3.521007e-01</td>\n",
       "      <td>5.997839e-01</td>\n",
       "      <td>6.994282e-01</td>\n",
       "      <td>7.998220e-01</td>\n",
       "      <td>1.027485e+00</td>\n",
       "      <td>6.996092e-01</td>\n",
       "    </tr>\n",
       "    <tr>\n",
       "      <th>Porosity</th>\n",
       "      <td>7.827064e-03</td>\n",
       "      <td>1.250285e-01</td>\n",
       "      <td>1.750510e-01</td>\n",
       "      <td>2.244209e-01</td>\n",
       "      <td>3.576259e-01</td>\n",
       "      <td>1.748908e-01</td>\n",
       "    </tr>\n",
       "    <tr>\n",
       "      <th>Sw</th>\n",
       "      <td>-2.353030e-01</td>\n",
       "      <td>1.509306e-01</td>\n",
       "      <td>3.002974e-01</td>\n",
       "      <td>4.501368e-01</td>\n",
       "      <td>7.712817e-01</td>\n",
       "      <td>3.003369e-01</td>\n",
       "    </tr>\n",
       "    <tr>\n",
       "      <th>FVF</th>\n",
       "      <td>8.760428e-01</td>\n",
       "      <td>1.100355e+00</td>\n",
       "      <td>1.200428e+00</td>\n",
       "      <td>1.299980e+00</td>\n",
       "      <td>1.613135e+00</td>\n",
       "      <td>1.200105e+00</td>\n",
       "    </tr>\n",
       "    <tr>\n",
       "      <th>RF</th>\n",
       "      <td>3.494080e-02</td>\n",
       "      <td>1.500525e-01</td>\n",
       "      <td>1.999224e-01</td>\n",
       "      <td>2.499722e-01</td>\n",
       "      <td>3.644971e-01</td>\n",
       "      <td>1.999013e-01</td>\n",
       "    </tr>\n",
       "    <tr>\n",
       "      <th>STOOIP</th>\n",
       "      <td>7.362605e-01</td>\n",
       "      <td>3.696032e+00</td>\n",
       "      <td>6.836347e+00</td>\n",
       "      <td>1.236170e+01</td>\n",
       "      <td>4.197292e+01</td>\n",
       "      <td>7.571290e+00</td>\n",
       "    </tr>\n",
       "    <tr>\n",
       "      <th>Resource</th>\n",
       "      <td>8.854514e-02</td>\n",
       "      <td>6.866196e-01</td>\n",
       "      <td>1.345720e+00</td>\n",
       "      <td>2.559564e+00</td>\n",
       "      <td>9.653981e+00</td>\n",
       "      <td>1.515254e+00</td>\n",
       "    </tr>\n",
       "  </tbody>\n",
       "</table>\n",
       "</div>"
      ],
      "text/plain": [
       "                   Min           P90           P50           P10  \\\n",
       "GRV       2.867790e+06  9.967899e+06  1.579696e+07  2.503827e+07   \n",
       "NTG       3.521007e-01  5.997839e-01  6.994282e-01  7.998220e-01   \n",
       "Porosity  7.827064e-03  1.250285e-01  1.750510e-01  2.244209e-01   \n",
       "Sw       -2.353030e-01  1.509306e-01  3.002974e-01  4.501368e-01   \n",
       "FVF       8.760428e-01  1.100355e+00  1.200428e+00  1.299980e+00   \n",
       "RF        3.494080e-02  1.500525e-01  1.999224e-01  2.499722e-01   \n",
       "STOOIP    7.362605e-01  3.696032e+00  6.836347e+00  1.236170e+01   \n",
       "Resource  8.854514e-02  6.866196e-01  1.345720e+00  2.559564e+00   \n",
       "\n",
       "                   Max          Mean  \n",
       "GRV       7.962521e+07  1.685423e+07  \n",
       "NTG       1.027485e+00  6.996092e-01  \n",
       "Porosity  3.576259e-01  1.748908e-01  \n",
       "Sw        7.712817e-01  3.003369e-01  \n",
       "FVF       1.613135e+00  1.200105e+00  \n",
       "RF        3.644971e-01  1.999013e-01  \n",
       "STOOIP    4.197292e+01  7.571290e+00  \n",
       "Resource  9.653981e+00  1.515254e+00  "
      ]
     },
     "execution_count": 26,
     "metadata": {},
     "output_type": "execute_result"
    }
   ],
   "source": [
    "summary = realisations.describe(percentiles=[0.1, 0.5, 0.9],).T \\\n",
    "    .iloc[:,[3,4,5,6,7,1]]\n",
    "summary.columns = ['Min', 'P90', 'P50', 'P10', 'Max', 'Mean']\n",
    "summary"
   ]
  },
  {
   "cell_type": "code",
   "execution_count": 40,
   "id": "d5a59470",
   "metadata": {},
   "outputs": [
    {
     "data": {
      "text/plain": [
       "(0.0, 0.146937)"
      ]
     },
     "execution_count": 40,
     "metadata": {},
     "output_type": "execute_result"
    }
   ],
   "source": [
    "ax[0].get_ylim()"
   ]
  },
  {
   "cell_type": "markdown",
   "id": "d4878409",
   "metadata": {},
   "source": [
    "export to Excel"
   ]
  },
  {
   "cell_type": "code",
   "execution_count": 64,
   "id": "dc4876fb",
   "metadata": {},
   "outputs": [
    {
     "data": {
      "image/png": "[encoded data removed]",
      "text/plain": [
       "<Figure size 597.6x842.4 with 6 Axes>"
      ]
     },
     "metadata": {
      "needs_background": "light"
     },
     "output_type": "display_data"
    }
   ],
   "source": [
    "num_samples = 20_000_000\n",
    "\n",
    "\n",
    "realisations = pd.DataFrame([], columns=params)\n",
    "\n",
    "for k, v in params.items():\n",
    "    realisations[k] = v.rvs(num_samples)"
   ]
  },
  {
   "cell_type": "code",
   "execution_count": 65,
   "id": "4d86c911",
   "metadata": {},
   "outputs": [],
   "source": [
    "realisations.Porosity = realisations.Porosity.clip(lower=0.1)\n",
    "realisations.Sw = realisations.Sw.clip(lower=0.15)\n",
    "realisations['STOOIP'] = (realisations['GRV']\n",
    "                     * realisations['NTG']\n",
    "                     * realisations['Porosity']\n",
    "                     * (1 - realisations['Sw'])\n",
    "                     / realisations['FVF']\n",
    "                     / 1_000 / 159)\n",
    "realisations['Resource'] = realisations['STOOIP'] * realisations['RF']"
   ]
  },
  {
   "cell_type": "code",
   "execution_count": 115,
   "id": "2d37a0a0",
   "metadata": {},
   "outputs": [],
   "source": [
    "summary_stats = realisations.Resource.groupby(by=np.arange(200). \\\n",
    "                                repeat(100_000)). \\\n",
    "                                quantile([0.1, 0.5, 0.9]). \\\n",
    "                                unstack()\n",
    "summary_stats['Mean'] = realisations.Resource.groupby(by=np.arange(200). \\\n",
    "                                repeat(100_000)). \\\n",
    "                                mean()\n",
    "summary_stats = summary_stats / summary_stats.mean()"
   ]
  },
  {
   "cell_type": "code",
   "execution_count": 116,
   "id": "192c0656",
   "metadata": {},
   "outputs": [
    {
     "data": {
      "image/png": "[encoded data removed]",
      "text/plain": [
       "<Figure size 432x288 with 1 Axes>"
      ]
     },
     "metadata": {
      "needs_background": "light"
     },
     "output_type": "display_data"
    }
   ],
   "source": [
    "fig, ax = plt.subplots()\n",
    "summary_stats.columns = ['P90', 'P50', 'P10', 'Mean']\n",
    "sns.boxplot(data=summary_stats.melt(value_name='Deviation from Mean'), \n",
    "            x='variable', \n",
    "            y='Deviation from Mean', \n",
    "            ax=ax)\n",
    "ax.yaxis.set_major_formatter(StrMethodFormatter('{x:.1%}'))\n",
    "ax.set_xlabel(None)\n",
    "plt.show()"
   ]
  }
 ],
 "metadata": {
  "kernelspec": {
   "display_name": "Python 3",
   "language": "python",
   "name": "python3"
  },
  "language_info": {
   "codemirror_mode": {
    "name": "ipython",
    "version": 3
   },
   "file_extension": ".py",
   "mimetype": "text/x-python",
   "name": "python",
   "nbconvert_exporter": "python",
   "pygments_lexer": "ipython3",
   "version": "3.6.10"
  }
 },
 "nbformat": 4,
 "nbformat_minor": 5
}
