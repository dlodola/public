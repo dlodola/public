{
 "cells": [
  {
   "cell_type": "code",
   "execution_count": 206,
   "id": "e26c342e",
   "metadata": {
    "ExecuteTime": {
     "end_time": "2021-07-27T12:48:43.791018Z",
     "start_time": "2021-07-27T12:48:43.788627Z"
    }
   },
   "outputs": [],
   "source": [
    "import re\n",
    "from urllib.parse import quote_plus\n",
    "from nbformat import read\n",
    "from nbconvert import MarkdownExporter\n",
    "from nbconvert.writers import FilesWriter\n",
    "from nbconvert.nbconvertapp import NbConvertApp\n",
    "from nbconvert.preprocessors import Preprocessor"
   ]
  },
  {
   "cell_type": "code",
   "execution_count": 126,
   "id": "6daa3201",
   "metadata": {
    "ExecuteTime": {
     "end_time": "2021-07-27T11:59:02.183092Z",
     "start_time": "2021-07-27T11:59:02.181246Z"
    }
   },
   "outputs": [],
   "source": [
    "notebook = './1-MonteCarlo-Resource-Assessments-part1.ipynb'"
   ]
  },
  {
   "cell_type": "code",
   "execution_count": 710,
   "id": "7415d6b2",
   "metadata": {
    "ExecuteTime": {
     "end_time": "2021-07-27T14:59:29.284575Z",
     "start_time": "2021-07-27T14:59:29.274033Z"
    }
   },
   "outputs": [],
   "source": [
    "with open(notebook, 'r', encoding='utf-8') as f:\n",
    "            nb = read(f, 4)\n",
    "        \n",
    "try:\n",
    "    output = quote_plus(\n",
    "        nb.metadata.date + '-' + nb.metadata.title, safe='/'\n",
    "    )\n",
    "except:\n",
    "    output = ''"
   ]
  },
  {
   "cell_type": "code",
   "execution_count": 711,
   "id": "a70db475",
   "metadata": {
    "ExecuteTime": {
     "end_time": "2021-07-27T14:59:29.629223Z",
     "start_time": "2021-07-27T14:59:29.625596Z"
    }
   },
   "outputs": [],
   "source": [
    "class Remove_H1(Preprocessor):\n",
    "    \"\"\"A Pelican specific preprocessor to remove some of the cells of a notebook\"\"\"\n",
    "\n",
    "#     # I could also read the cells from nb.metadata.pelican if someone wrote a JS extension,\n",
    "#     # but for now I'll stay with configurable value.\n",
    "#     start = Integer(0,  help=\"first cell of notebook to be converted\").tag(config=True)\n",
    "#     end   = Integer(-1, help=\"last cell of notebook to be converted\").tag(config=True)\n",
    "\n",
    "    def preprocess(self, nb, resources):\n",
    "\n",
    "        for cell in nb.cells:\n",
    "            if cell.cell_type == 'markdown':\n",
    "#                 s = re.search(\"^\\# .+\\n\\n\", cell.source)\n",
    "                s = re.sub(\"^\\# .+\\n\\n\", '', cell.source, re.MULTILINE)\n",
    "#                 cell.source = s\n",
    "        \n",
    "#                 pattern = r\"\\\\\\[(?!\\\\\\[).*\\\\\\]\"\n",
    "# #                 pattern = r\"^(?!\\\\\\]).*\\\\\\]\"\n",
    "#                 pattern = r\"(\\\\\\[)((?:(?!\\1)[\\s\\S])*)(\\\\\\])\"\n",
    "# #                 s = re.findall(pattern, s, re.MULTILINE | re.DOTALL)\n",
    "                pre = \"\"\"<div class=\"equation\">\\n\\t<div>\"\"\"\n",
    "                post = \"\"\"</div>\\n<div class=\"equation_dots\"></div>\\n\"\"\"\n",
    "                post += \"<div></div>\\n\"\n",
    "                post += \"</div>\\n\"\n",
    "                s = re.sub(r'\\\\\\\\\\[', pre + r'\\\\[', s)\n",
    "                s = re.sub(r'\\\\\\\\\\]', r'\\\\]' + post, s)\n",
    "                cell.source = s\n",
    "        return nb, resources"
   ]
  },
  {
   "cell_type": "code",
   "execution_count": 712,
   "id": "c8eb34d3",
   "metadata": {
    "ExecuteTime": {
     "end_time": "2021-07-27T14:59:29.793581Z",
     "start_time": "2021-07-27T14:59:29.784570Z"
    }
   },
   "outputs": [],
   "source": [
    "md_exporter = MarkdownExporter(\n",
    "    template_name=\"blog-markdown\",\n",
    "    preprocessors=[Remove_H1]\n",
    ")\n",
    "# md_exporter.preprocessors = [Remove_H1]"
   ]
  },
  {
   "cell_type": "code",
   "execution_count": 713,
   "id": "9256c109",
   "metadata": {
    "ExecuteTime": {
     "end_time": "2021-07-27T14:59:30.163047Z",
     "start_time": "2021-07-27T14:59:30.160629Z"
    }
   },
   "outputs": [],
   "source": [
    "md_writer = FilesWriter(\n",
    "    build_directory = \"/Users/dom/Downloads/nbconvert_output\",\n",
    ")\n"
   ]
  },
  {
   "cell_type": "code",
   "execution_count": 714,
   "id": "6602e17b",
   "metadata": {
    "ExecuteTime": {
     "end_time": "2021-07-27T14:59:30.764398Z",
     "start_time": "2021-07-27T14:59:30.761481Z"
    }
   },
   "outputs": [],
   "source": [
    "app = NbConvertApp(\n",
    "    output_base = output\n",
    ")\n",
    "app.exporter = md_exporter\n",
    "app.writer = md_writer"
   ]
  },
  {
   "cell_type": "code",
   "execution_count": 715,
   "id": "08446b7f",
   "metadata": {
    "ExecuteTime": {
     "end_time": "2021-07-27T14:59:31.069779Z",
     "start_time": "2021-07-27T14:59:30.937566Z"
    }
   },
   "outputs": [
    {
     "name": "stderr",
     "output_type": "stream",
     "text": [
      "[NbConvertApp] Converting notebook ./1-MonteCarlo-Resource-Assessments-part1.ipynb to \n"
     ]
    }
   ],
   "source": [
    "app.convert_single_notebook(notebook)"
   ]
  },
  {
   "cell_type": "code",
   "execution_count": 709,
   "id": "84d87f19",
   "metadata": {
    "ExecuteTime": {
     "end_time": "2021-07-27T14:52:41.088283Z",
     "start_time": "2021-07-27T14:52:41.085520Z"
    }
   },
   "outputs": [
    {
     "data": {
      "text/plain": [
       "[__main__.Remove_H1]"
      ]
     },
     "execution_count": 709,
     "metadata": {},
     "output_type": "execute_result"
    }
   ],
   "source": [
    "md_exporter.preprocessors"
   ]
  },
  {
   "cell_type": "code",
   "execution_count": 427,
   "id": "fdc56a31",
   "metadata": {
    "ExecuteTime": {
     "end_time": "2021-07-27T13:26:16.681884Z",
     "start_time": "2021-07-27T13:26:16.679717Z"
    }
   },
   "outputs": [],
   "source": [
    "prog = re.compile('.', re.DOTALL | re.MULTILINE)"
   ]
  },
  {
   "cell_type": "code",
   "execution_count": null,
   "id": "8c5d7076",
   "metadata": {},
   "outputs": [],
   "source": []
  }
 ],
 "metadata": {
  "hide_input": false,
  "kernelspec": {
   "display_name": "Python 3",
   "language": "python",
   "name": "python3"
  },
  "language_info": {
   "codemirror_mode": {
    "name": "ipython",
    "version": 3
   },
   "file_extension": ".py",
   "mimetype": "text/x-python",
   "name": "python",
   "nbconvert_exporter": "python",
   "pygments_lexer": "ipython3",
   "version": "3.7.3"
  }
 },
 "nbformat": 4,
 "nbformat_minor": 5
}
